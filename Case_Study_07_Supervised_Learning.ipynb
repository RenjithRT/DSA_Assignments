{
 "cells": [
  {
   "cell_type": "markdown",
   "metadata": {
    "id": "OCGyzPxzQN1A"
   },
   "source": [
    "# Case study on Supervised learning\n",
    "\n",
    "Do the following in the iris dataset.\n",
    "1. Read the dataset to the python environment.\n",
    "2. Do necessary pre-processing steps.\n",
    "3. Find out which classification model gives the best result to predict iris\n",
    "species.(also do random forest algorithm)"
   ]
  },
  {
   "cell_type": "code",
   "execution_count": 1,
   "metadata": {
    "id": "uau9vqdkOwwX"
   },
   "outputs": [],
   "source": [
    "# Import the required libraries\n",
    "import numpy as np\n",
    "import pandas as pd\n",
    "import matplotlib.pyplot as plt\n",
    "import seaborn as sns"
   ]
  },
  {
   "cell_type": "markdown",
   "metadata": {
    "id": "D8ub0YiXQM9A"
   },
   "source": [
    "### 1. Read the dataset to the python environment."
   ]
  },
  {
   "cell_type": "code",
   "execution_count": 2,
   "metadata": {
    "id": "OJszVlvpQkcg"
   },
   "outputs": [],
   "source": [
    "# Loading the excel file into a pandas dataframe.\n",
    "iris_data = pd.read_excel('iris.xls')"
   ]
  },
  {
   "cell_type": "code",
   "execution_count": 3,
   "metadata": {
    "id": "MJ7PxrWZQkmg"
   },
   "outputs": [
    {
     "data": {
      "text/html": [
       "<div>\n",
       "<style scoped>\n",
       "    .dataframe tbody tr th:only-of-type {\n",
       "        vertical-align: middle;\n",
       "    }\n",
       "\n",
       "    .dataframe tbody tr th {\n",
       "        vertical-align: top;\n",
       "    }\n",
       "\n",
       "    .dataframe thead th {\n",
       "        text-align: right;\n",
       "    }\n",
       "</style>\n",
       "<table border=\"1\" class=\"dataframe\">\n",
       "  <thead>\n",
       "    <tr style=\"text-align: right;\">\n",
       "      <th></th>\n",
       "      <th>SL</th>\n",
       "      <th>SW</th>\n",
       "      <th>PL</th>\n",
       "      <th>PW</th>\n",
       "      <th>Classification</th>\n",
       "    </tr>\n",
       "  </thead>\n",
       "  <tbody>\n",
       "    <tr>\n",
       "      <th>0</th>\n",
       "      <td>5.1</td>\n",
       "      <td>3.5</td>\n",
       "      <td>1.4</td>\n",
       "      <td>0.2</td>\n",
       "      <td>Iris-setosa</td>\n",
       "    </tr>\n",
       "    <tr>\n",
       "      <th>1</th>\n",
       "      <td>4.9</td>\n",
       "      <td>3.0</td>\n",
       "      <td>1.4</td>\n",
       "      <td>0.2</td>\n",
       "      <td>Iris-setosa</td>\n",
       "    </tr>\n",
       "    <tr>\n",
       "      <th>2</th>\n",
       "      <td>NaN</td>\n",
       "      <td>3.2</td>\n",
       "      <td>1.3</td>\n",
       "      <td>0.2</td>\n",
       "      <td>Iris-setosa</td>\n",
       "    </tr>\n",
       "    <tr>\n",
       "      <th>3</th>\n",
       "      <td>4.6</td>\n",
       "      <td>3.1</td>\n",
       "      <td>1.5</td>\n",
       "      <td>0.2</td>\n",
       "      <td>Iris-setosa</td>\n",
       "    </tr>\n",
       "    <tr>\n",
       "      <th>4</th>\n",
       "      <td>5.0</td>\n",
       "      <td>3.6</td>\n",
       "      <td>1.4</td>\n",
       "      <td>0.2</td>\n",
       "      <td>Iris-setosa</td>\n",
       "    </tr>\n",
       "  </tbody>\n",
       "</table>\n",
       "</div>"
      ],
      "text/plain": [
       "    SL   SW   PL   PW Classification\n",
       "0  5.1  3.5  1.4  0.2    Iris-setosa\n",
       "1  4.9  3.0  1.4  0.2    Iris-setosa\n",
       "2  NaN  3.2  1.3  0.2    Iris-setosa\n",
       "3  4.6  3.1  1.5  0.2    Iris-setosa\n",
       "4  5.0  3.6  1.4  0.2    Iris-setosa"
      ]
     },
     "execution_count": 3,
     "metadata": {},
     "output_type": "execute_result"
    }
   ],
   "source": [
    "# Display the data\n",
    "iris_data.head()"
   ]
  },
  {
   "cell_type": "code",
   "execution_count": 4,
   "metadata": {
    "id": "A4ZmkN55QksK"
   },
   "outputs": [
    {
     "data": {
      "text/plain": [
       "(150, 5)"
      ]
     },
     "execution_count": 4,
     "metadata": {},
     "output_type": "execute_result"
    }
   ],
   "source": [
    "# number of elements in each dimension (Rows and Columns)\n",
    "iris_data.shape"
   ]
  },
  {
   "cell_type": "code",
   "execution_count": 5,
   "metadata": {
    "id": "6-ik8F0rQkxo"
   },
   "outputs": [
    {
     "name": "stdout",
     "output_type": "stream",
     "text": [
      "<class 'pandas.core.frame.DataFrame'>\n",
      "RangeIndex: 150 entries, 0 to 149\n",
      "Data columns (total 5 columns):\n",
      " #   Column          Non-Null Count  Dtype  \n",
      "---  ------          --------------  -----  \n",
      " 0   SL              143 non-null    float64\n",
      " 1   SW              144 non-null    float64\n",
      " 2   PL              144 non-null    float64\n",
      " 3   PW              150 non-null    float64\n",
      " 4   Classification  150 non-null    object \n",
      "dtypes: float64(4), object(1)\n",
      "memory usage: 6.0+ KB\n"
     ]
    }
   ],
   "source": [
    "# Summary of the data\n",
    "iris_data.info()"
   ]
  },
  {
   "cell_type": "code",
   "execution_count": 6,
   "metadata": {
    "id": "3oC1yGIDaClt"
   },
   "outputs": [
    {
     "data": {
      "text/plain": [
       "Index(['SL', 'SW', 'PL', 'PW', 'Classification'], dtype='object')"
      ]
     },
     "execution_count": 6,
     "metadata": {},
     "output_type": "execute_result"
    }
   ],
   "source": [
    "# Display the columns in the dataset\n",
    "iris_data.columns"
   ]
  },
  {
   "cell_type": "markdown",
   "metadata": {
    "id": "P7yeaWwPSTiv"
   },
   "source": [
    "From the iris dataset :\n",
    "\n",
    "- 50 samples of 3 different species of iris (150 samples total)\n",
    "- Measurements: sepal length, sepal width, petal length, petal width\n"
   ]
  },
  {
   "cell_type": "code",
   "execution_count": 7,
   "metadata": {
    "id": "6ONL47tyQk7Q"
   },
   "outputs": [
    {
     "data": {
      "text/plain": [
       "Iris-versicolor    50\n",
       "Iris-setosa        50\n",
       "Iris-virginica     50\n",
       "Name: Classification, dtype: int64"
      ]
     },
     "execution_count": 7,
     "metadata": {},
     "output_type": "execute_result"
    }
   ],
   "source": [
    "# check the target variable\n",
    "iris_data['Classification'].value_counts()"
   ]
  },
  {
   "cell_type": "markdown",
   "metadata": {
    "id": "rkUg0lz4VmLS"
   },
   "source": [
    "As you can see that the feature 'Classification' is the target variable in the iris dataset (whether the iris classifcation there are 50 observations of each species (setosa, versicolor, virginica). Hence it is a Multi-Class Classification Problem"
   ]
  },
  {
   "cell_type": "markdown",
   "metadata": {
    "id": "Kdh82sT5YUIY"
   },
   "source": [
    "### 2. Do necessary pre-processing steps."
   ]
  },
  {
   "cell_type": "code",
   "execution_count": 8,
   "metadata": {
    "id": "PPVgPlGAl92P"
   },
   "outputs": [
    {
     "data": {
      "text/plain": [
       "SL                float64\n",
       "SW                float64\n",
       "PL                float64\n",
       "PW                float64\n",
       "Classification     object\n",
       "dtype: object"
      ]
     },
     "execution_count": 8,
     "metadata": {},
     "output_type": "execute_result"
    }
   ],
   "source": [
    "# check the data type for all features in the dataset\n",
    "iris_data.dtypes"
   ]
  },
  {
   "cell_type": "markdown",
   "metadata": {
    "id": "_artqhC1VwLa"
   },
   "source": [
    "Now, we need to check whether any null or missing values present in the iris dataset"
   ]
  },
  {
   "cell_type": "code",
   "execution_count": 9,
   "metadata": {
    "id": "yDrts4y0V4sF"
   },
   "outputs": [
    {
     "data": {
      "text/plain": [
       "SL                7\n",
       "SW                6\n",
       "PL                6\n",
       "PW                0\n",
       "Classification    0\n",
       "dtype: int64"
      ]
     },
     "execution_count": 9,
     "metadata": {},
     "output_type": "execute_result"
    }
   ],
   "source": [
    "# Calculating the null values present in each columns in the dataset (Before treatment)\n",
    "iris_data.isna().sum()"
   ]
  },
  {
   "cell_type": "markdown",
   "metadata": {
    "id": "BxZYnawCWMSf"
   },
   "source": [
    "As you can see that there are 19 null or missing values present in the iris dataset. The features sepal length(SL), sepal width(SW) and petal length(PL) are having the null values. we can treat the null values. Since sepal length(SL), sepal width(SW) and petal length(PL) are float data type so we can fill the missing values with mean/median method."
   ]
  },
  {
   "cell_type": "code",
   "execution_count": 10,
   "metadata": {
    "id": "Lw3M3P0hV4dK"
   },
   "outputs": [
    {
     "data": {
      "text/html": [
       "<div>\n",
       "<style scoped>\n",
       "    .dataframe tbody tr th:only-of-type {\n",
       "        vertical-align: middle;\n",
       "    }\n",
       "\n",
       "    .dataframe tbody tr th {\n",
       "        vertical-align: top;\n",
       "    }\n",
       "\n",
       "    .dataframe thead th {\n",
       "        text-align: right;\n",
       "    }\n",
       "</style>\n",
       "<table border=\"1\" class=\"dataframe\">\n",
       "  <thead>\n",
       "    <tr style=\"text-align: right;\">\n",
       "      <th></th>\n",
       "      <th>SL</th>\n",
       "      <th>SW</th>\n",
       "      <th>PL</th>\n",
       "      <th>PW</th>\n",
       "      <th>Classification</th>\n",
       "    </tr>\n",
       "  </thead>\n",
       "  <tbody>\n",
       "    <tr>\n",
       "      <th>2</th>\n",
       "      <td>NaN</td>\n",
       "      <td>3.2</td>\n",
       "      <td>1.3</td>\n",
       "      <td>0.2</td>\n",
       "      <td>Iris-setosa</td>\n",
       "    </tr>\n",
       "    <tr>\n",
       "      <th>10</th>\n",
       "      <td>5.4</td>\n",
       "      <td>NaN</td>\n",
       "      <td>1.5</td>\n",
       "      <td>0.2</td>\n",
       "      <td>Iris-setosa</td>\n",
       "    </tr>\n",
       "    <tr>\n",
       "      <th>21</th>\n",
       "      <td>NaN</td>\n",
       "      <td>3.7</td>\n",
       "      <td>1.5</td>\n",
       "      <td>0.4</td>\n",
       "      <td>Iris-setosa</td>\n",
       "    </tr>\n",
       "    <tr>\n",
       "      <th>27</th>\n",
       "      <td>5.2</td>\n",
       "      <td>NaN</td>\n",
       "      <td>1.5</td>\n",
       "      <td>0.2</td>\n",
       "      <td>Iris-setosa</td>\n",
       "    </tr>\n",
       "    <tr>\n",
       "      <th>28</th>\n",
       "      <td>5.2</td>\n",
       "      <td>3.4</td>\n",
       "      <td>NaN</td>\n",
       "      <td>0.2</td>\n",
       "      <td>Iris-setosa</td>\n",
       "    </tr>\n",
       "    <tr>\n",
       "      <th>39</th>\n",
       "      <td>NaN</td>\n",
       "      <td>3.4</td>\n",
       "      <td>1.5</td>\n",
       "      <td>0.2</td>\n",
       "      <td>Iris-setosa</td>\n",
       "    </tr>\n",
       "    <tr>\n",
       "      <th>42</th>\n",
       "      <td>4.4</td>\n",
       "      <td>3.2</td>\n",
       "      <td>NaN</td>\n",
       "      <td>0.2</td>\n",
       "      <td>Iris-setosa</td>\n",
       "    </tr>\n",
       "    <tr>\n",
       "      <th>43</th>\n",
       "      <td>5.0</td>\n",
       "      <td>NaN</td>\n",
       "      <td>1.6</td>\n",
       "      <td>0.6</td>\n",
       "      <td>Iris-setosa</td>\n",
       "    </tr>\n",
       "    <tr>\n",
       "      <th>51</th>\n",
       "      <td>NaN</td>\n",
       "      <td>3.2</td>\n",
       "      <td>4.5</td>\n",
       "      <td>1.5</td>\n",
       "      <td>Iris-versicolor</td>\n",
       "    </tr>\n",
       "    <tr>\n",
       "      <th>56</th>\n",
       "      <td>6.3</td>\n",
       "      <td>3.3</td>\n",
       "      <td>NaN</td>\n",
       "      <td>1.6</td>\n",
       "      <td>Iris-versicolor</td>\n",
       "    </tr>\n",
       "    <tr>\n",
       "      <th>72</th>\n",
       "      <td>6.3</td>\n",
       "      <td>NaN</td>\n",
       "      <td>4.9</td>\n",
       "      <td>1.5</td>\n",
       "      <td>Iris-versicolor</td>\n",
       "    </tr>\n",
       "    <tr>\n",
       "      <th>85</th>\n",
       "      <td>NaN</td>\n",
       "      <td>3.4</td>\n",
       "      <td>4.5</td>\n",
       "      <td>1.6</td>\n",
       "      <td>Iris-versicolor</td>\n",
       "    </tr>\n",
       "    <tr>\n",
       "      <th>94</th>\n",
       "      <td>5.6</td>\n",
       "      <td>2.7</td>\n",
       "      <td>NaN</td>\n",
       "      <td>1.3</td>\n",
       "      <td>Iris-versicolor</td>\n",
       "    </tr>\n",
       "    <tr>\n",
       "      <th>98</th>\n",
       "      <td>5.1</td>\n",
       "      <td>NaN</td>\n",
       "      <td>3.0</td>\n",
       "      <td>1.1</td>\n",
       "      <td>Iris-versicolor</td>\n",
       "    </tr>\n",
       "    <tr>\n",
       "      <th>106</th>\n",
       "      <td>NaN</td>\n",
       "      <td>2.5</td>\n",
       "      <td>4.5</td>\n",
       "      <td>1.7</td>\n",
       "      <td>Iris-virginica</td>\n",
       "    </tr>\n",
       "    <tr>\n",
       "      <th>109</th>\n",
       "      <td>7.2</td>\n",
       "      <td>3.6</td>\n",
       "      <td>NaN</td>\n",
       "      <td>2.5</td>\n",
       "      <td>Iris-virginica</td>\n",
       "    </tr>\n",
       "    <tr>\n",
       "      <th>124</th>\n",
       "      <td>6.7</td>\n",
       "      <td>NaN</td>\n",
       "      <td>5.7</td>\n",
       "      <td>2.1</td>\n",
       "      <td>Iris-virginica</td>\n",
       "    </tr>\n",
       "    <tr>\n",
       "      <th>141</th>\n",
       "      <td>NaN</td>\n",
       "      <td>3.1</td>\n",
       "      <td>5.1</td>\n",
       "      <td>2.3</td>\n",
       "      <td>Iris-virginica</td>\n",
       "    </tr>\n",
       "    <tr>\n",
       "      <th>147</th>\n",
       "      <td>6.5</td>\n",
       "      <td>3.0</td>\n",
       "      <td>NaN</td>\n",
       "      <td>2.0</td>\n",
       "      <td>Iris-virginica</td>\n",
       "    </tr>\n",
       "  </tbody>\n",
       "</table>\n",
       "</div>"
      ],
      "text/plain": [
       "      SL   SW   PL   PW   Classification\n",
       "2    NaN  3.2  1.3  0.2      Iris-setosa\n",
       "10   5.4  NaN  1.5  0.2      Iris-setosa\n",
       "21   NaN  3.7  1.5  0.4      Iris-setosa\n",
       "27   5.2  NaN  1.5  0.2      Iris-setosa\n",
       "28   5.2  3.4  NaN  0.2      Iris-setosa\n",
       "39   NaN  3.4  1.5  0.2      Iris-setosa\n",
       "42   4.4  3.2  NaN  0.2      Iris-setosa\n",
       "43   5.0  NaN  1.6  0.6      Iris-setosa\n",
       "51   NaN  3.2  4.5  1.5  Iris-versicolor\n",
       "56   6.3  3.3  NaN  1.6  Iris-versicolor\n",
       "72   6.3  NaN  4.9  1.5  Iris-versicolor\n",
       "85   NaN  3.4  4.5  1.6  Iris-versicolor\n",
       "94   5.6  2.7  NaN  1.3  Iris-versicolor\n",
       "98   5.1  NaN  3.0  1.1  Iris-versicolor\n",
       "106  NaN  2.5  4.5  1.7   Iris-virginica\n",
       "109  7.2  3.6  NaN  2.5   Iris-virginica\n",
       "124  6.7  NaN  5.7  2.1   Iris-virginica\n",
       "141  NaN  3.1  5.1  2.3   Iris-virginica\n",
       "147  6.5  3.0  NaN  2.0   Iris-virginica"
      ]
     },
     "execution_count": 10,
     "metadata": {},
     "output_type": "execute_result"
    }
   ],
   "source": [
    "# Display the data before missing values treatment\n",
    "iris_data[iris_data.isna().any(axis=1)] # check at least one null values in a row "
   ]
  },
  {
   "cell_type": "markdown",
   "metadata": {
    "id": "pTD6QN9Qa-Sk"
   },
   "source": [
    "We can use plots and summary statistics to help identify missing or corrupt data."
   ]
  },
  {
   "cell_type": "code",
   "execution_count": 11,
   "metadata": {
    "id": "TOsZVBG3cSlQ"
   },
   "outputs": [
    {
     "data": {
      "image/png": "[encoded data removed]",
      "text/plain": [
       "<Figure size 1080x720 with 4 Axes>"
      ]
     },
     "metadata": {
      "needs_background": "light"
     },
     "output_type": "display_data"
    }
   ],
   "source": [
    "# we can plot the frequency graph\n",
    "freq_graph = iris_data.select_dtypes(include=['float64'])\n",
    "freq_graph.hist(figsize=(15,10))\n",
    "plt.show()"
   ]
  },
  {
   "cell_type": "markdown",
   "metadata": {
    "id": "ZuzGoCRjdBwn"
   },
   "source": [
    "From the above frequency graph we can say that sepal length(SL), sepal width(SW) , petal length(PL) and Petal Width(PW) are follows almost normal distribution so we can use mean for missing values treatment."
   ]
  },
  {
   "cell_type": "code",
   "execution_count": 12,
   "metadata": {
    "id": "pH8zfcCSbE9-"
   },
   "outputs": [
    {
     "data": {
      "text/html": [
       "<div>\n",
       "<style scoped>\n",
       "    .dataframe tbody tr th:only-of-type {\n",
       "        vertical-align: middle;\n",
       "    }\n",
       "\n",
       "    .dataframe tbody tr th {\n",
       "        vertical-align: top;\n",
       "    }\n",
       "\n",
       "    .dataframe thead th {\n",
       "        text-align: right;\n",
       "    }\n",
       "</style>\n",
       "<table border=\"1\" class=\"dataframe\">\n",
       "  <thead>\n",
       "    <tr style=\"text-align: right;\">\n",
       "      <th></th>\n",
       "      <th>count</th>\n",
       "      <th>mean</th>\n",
       "      <th>std</th>\n",
       "      <th>min</th>\n",
       "      <th>25%</th>\n",
       "      <th>50%</th>\n",
       "      <th>75%</th>\n",
       "      <th>max</th>\n",
       "    </tr>\n",
       "  </thead>\n",
       "  <tbody>\n",
       "    <tr>\n",
       "      <th>SL</th>\n",
       "      <td>143.0</td>\n",
       "      <td>5.855944</td>\n",
       "      <td>0.828168</td>\n",
       "      <td>4.3</td>\n",
       "      <td>5.1</td>\n",
       "      <td>5.80</td>\n",
       "      <td>6.4</td>\n",
       "      <td>7.9</td>\n",
       "    </tr>\n",
       "    <tr>\n",
       "      <th>SW</th>\n",
       "      <td>144.0</td>\n",
       "      <td>3.049306</td>\n",
       "      <td>0.430644</td>\n",
       "      <td>2.0</td>\n",
       "      <td>2.8</td>\n",
       "      <td>3.00</td>\n",
       "      <td>3.3</td>\n",
       "      <td>4.4</td>\n",
       "    </tr>\n",
       "    <tr>\n",
       "      <th>PL</th>\n",
       "      <td>144.0</td>\n",
       "      <td>3.756250</td>\n",
       "      <td>1.761306</td>\n",
       "      <td>1.0</td>\n",
       "      <td>1.6</td>\n",
       "      <td>4.35</td>\n",
       "      <td>5.1</td>\n",
       "      <td>6.9</td>\n",
       "    </tr>\n",
       "    <tr>\n",
       "      <th>PW</th>\n",
       "      <td>150.0</td>\n",
       "      <td>1.198667</td>\n",
       "      <td>0.763161</td>\n",
       "      <td>0.1</td>\n",
       "      <td>0.3</td>\n",
       "      <td>1.30</td>\n",
       "      <td>1.8</td>\n",
       "      <td>2.5</td>\n",
       "    </tr>\n",
       "  </tbody>\n",
       "</table>\n",
       "</div>"
      ],
      "text/plain": [
       "    count      mean       std  min  25%   50%  75%  max\n",
       "SL  143.0  5.855944  0.828168  4.3  5.1  5.80  6.4  7.9\n",
       "SW  144.0  3.049306  0.430644  2.0  2.8  3.00  3.3  4.4\n",
       "PL  144.0  3.756250  1.761306  1.0  1.6  4.35  5.1  6.9\n",
       "PW  150.0  1.198667  0.763161  0.1  0.3  1.30  1.8  2.5"
      ]
     },
     "execution_count": 12,
     "metadata": {},
     "output_type": "execute_result"
    }
   ],
   "source": [
    "# The Statistical summary of iris dataset\n",
    "iris_data.describe().T"
   ]
  },
  {
   "cell_type": "markdown",
   "metadata": {
    "id": "WEeYx5EUbd14"
   },
   "source": [
    "> \"Missing values are frequently indicated by out-of-range entries; perhaps a negative number (e.g., -1) in a numeric field that is normally only positive, or a 0 in a numeric field that can never normally be 0\"."
   ]
  },
  {
   "cell_type": "markdown",
   "metadata": {
    "id": "VM11TjNobyIT"
   },
   "source": [
    "Here we can see the complete statistical summary of count, mean, statndard deviation, minimum value of each column also maximum, 25%, 50% and 75% percentile."
   ]
  },
  {
   "cell_type": "markdown",
   "metadata": {
    "id": "gnds7xolf1ZE"
   },
   "source": [
    "we can use a loop to treat missing or null values for sepal length(SL), sepal width(SW) and petal length(PL)"
   ]
  },
  {
   "cell_type": "code",
   "execution_count": 13,
   "metadata": {
    "id": "TagJtbBva9Yt"
   },
   "outputs": [],
   "source": [
    "# fill the missing values\n",
    "missing_val = ['SL','SW','PL']\n",
    "\n",
    "for i in missing_val:\n",
    "    iris_data[i] = iris_data[i].fillna(iris_data[i].mean())"
   ]
  },
  {
   "cell_type": "code",
   "execution_count": 14,
   "metadata": {
    "id": "sd6wRWLxgmsr"
   },
   "outputs": [
    {
     "data": {
      "text/plain": [
       "SL                0\n",
       "SW                0\n",
       "PL                0\n",
       "PW                0\n",
       "Classification    0\n",
       "dtype: int64"
      ]
     },
     "execution_count": 14,
     "metadata": {},
     "output_type": "execute_result"
    }
   ],
   "source": [
    "# Calculating the null values present in each columns in the dataset (After treatment)\n",
    "iris_data.isna().sum()"
   ]
  },
  {
   "cell_type": "code",
   "execution_count": 15,
   "metadata": {
    "id": "-kRuLIiOgm47"
   },
   "outputs": [
    {
     "data": {
      "text/html": [
       "<div>\n",
       "<style scoped>\n",
       "    .dataframe tbody tr th:only-of-type {\n",
       "        vertical-align: middle;\n",
       "    }\n",
       "\n",
       "    .dataframe tbody tr th {\n",
       "        vertical-align: top;\n",
       "    }\n",
       "\n",
       "    .dataframe thead th {\n",
       "        text-align: right;\n",
       "    }\n",
       "</style>\n",
       "<table border=\"1\" class=\"dataframe\">\n",
       "  <thead>\n",
       "    <tr style=\"text-align: right;\">\n",
       "      <th></th>\n",
       "      <th>SL</th>\n",
       "      <th>SW</th>\n",
       "      <th>PL</th>\n",
       "      <th>PW</th>\n",
       "      <th>Classification</th>\n",
       "    </tr>\n",
       "  </thead>\n",
       "  <tbody>\n",
       "  </tbody>\n",
       "</table>\n",
       "</div>"
      ],
      "text/plain": [
       "Empty DataFrame\n",
       "Columns: [SL, SW, PL, PW, Classification]\n",
       "Index: []"
      ]
     },
     "execution_count": 15,
     "metadata": {},
     "output_type": "execute_result"
    }
   ],
   "source": [
    "# Display the data after missing values treatment\n",
    "iris_data[iris_data.isna().any(axis=1)] # check at least one null values in a row "
   ]
  },
  {
   "cell_type": "markdown",
   "metadata": {
    "id": "YhdikDfTmNl-"
   },
   "source": [
    "As you can see that it is treated well for missing values in sepal length(SL), sepal width(SW) and petal length(PL). Now our iris dataset is completely treated with no null or missing values"
   ]
  },
  {
   "cell_type": "code",
   "execution_count": 16,
   "metadata": {
    "id": "_v_kJllggnDa"
   },
   "outputs": [
    {
     "data": {
      "text/plain": [
       "(150, 5)"
      ]
     },
     "execution_count": 16,
     "metadata": {},
     "output_type": "execute_result"
    }
   ],
   "source": [
    "# number of elements in each dimension (Rows and Columns)\n",
    "iris_data.shape"
   ]
  },
  {
   "cell_type": "markdown",
   "metadata": {
    "id": "FHTnXOt6nBxN"
   },
   "source": [
    "So next we can check and handle outliers in the iris dataset. For finding outliers we can use boxplot."
   ]
  },
  {
   "cell_type": "code",
   "execution_count": 17,
   "metadata": {
    "id": "ZQaOWWqJnc7x"
   },
   "outputs": [
    {
     "data": {
      "text/plain": [
       "Index(['SL', 'SW', 'PL', 'PW', 'Classification'], dtype='object')"
      ]
     },
     "execution_count": 17,
     "metadata": {},
     "output_type": "execute_result"
    }
   ],
   "source": [
    "# Display the columns in the dataset\n",
    "iris_data.columns"
   ]
  },
  {
   "cell_type": "code",
   "execution_count": 18,
   "metadata": {
    "id": "yRq1KZgBqmtL"
   },
   "outputs": [
    {
     "data": {
      "image/png": "[encoded data removed]",
      "text/plain": [
       "<Figure size 576x360 with 1 Axes>"
      ]
     },
     "metadata": {
      "needs_background": "light"
     },
     "output_type": "display_data"
    },
    {
     "data": {
      "image/png": "[encoded data removed]",
      "text/plain": [
       "<Figure size 576x360 with 1 Axes>"
      ]
     },
     "metadata": {
      "needs_background": "light"
     },
     "output_type": "display_data"
    },
    {
     "data": {
      "image/png": "[encoded data removed]",
      "text/plain": [
       "<Figure size 576x360 with 1 Axes>"
      ]
     },
     "metadata": {
      "needs_background": "light"
     },
     "output_type": "display_data"
    },
    {
     "data": {
      "image/png": "[encoded data removed]",
      "text/plain": [
       "<Figure size 576x360 with 1 Axes>"
      ]
     },
     "metadata": {
      "needs_background": "light"
     },
     "output_type": "display_data"
    }
   ],
   "source": [
    "# boxplot before removing the outliers from SL, SW, PL and PW features\n",
    "for i in iris_data.columns[iris_data.dtypes == float]:\n",
    "   fig = plt.figure(figsize=(8,5))\n",
    "   iris_data[i].plot(kind='box')\n",
    "   fig.suptitle(i)"
   ]
  },
  {
   "cell_type": "markdown",
   "metadata": {
    "id": "1rt1a1aOsOlU"
   },
   "source": [
    "As you can see that there are some outliers present in the Sepal Width(SW) features so we need to remove the outliers."
   ]
  },
  {
   "cell_type": "markdown",
   "metadata": {
    "id": "YN353ey4Bz7R"
   },
   "source": [
    "> Sepal Width (SW) feature"
   ]
  },
  {
   "cell_type": "code",
   "execution_count": 19,
   "metadata": {
    "id": "uAtekHALWFav"
   },
   "outputs": [
    {
     "data": {
      "image/png": "[encoded data removed]",
      "text/plain": [
       "<Figure size 576x360 with 1 Axes>"
      ]
     },
     "metadata": {
      "needs_background": "light"
     },
     "output_type": "display_data"
    }
   ],
   "source": [
    "# boxplot before removing the outliers from Sepal Width feature\n",
    "fig = plt.figure(figsize=(8,5))\n",
    "iris_data['SW'].plot(kind='box')\n",
    "fig.suptitle('Sepal Width')\n",
    "plt.show()"
   ]
  },
  {
   "cell_type": "code",
   "execution_count": 20,
   "metadata": {
    "id": "sZtCb-PLB6fh"
   },
   "outputs": [
    {
     "name": "stdout",
     "output_type": "stream",
     "text": [
      "Q1:  2.8 \n",
      "Q2:  3.0 \n",
      "Q3:  3.25\n",
      "IQR:  0.45\n",
      "Lower limit is :  2.12\n",
      "Upper limit is :  3.92\n",
      "Outliers in the Sepal Width:  [4.0, 4.4, 4.1, 4.2, 2.0]\n"
     ]
    }
   ],
   "source": [
    "# For removing outliers first we need to check the quartiles. It manages the outliers.\n",
    "Q1 = np.percentile(iris_data['SW'],25,interpolation='midpoint')\n",
    "Q2 = np.percentile(iris_data['SW'],50,interpolation='midpoint')\n",
    "Q3 = np.percentile(iris_data['SW'],75,interpolation='midpoint')\n",
    "print('Q1: ',Q1,'\\nQ2: ',Q2,'\\nQ3: ',Q3)\n",
    "\n",
    "# check the inter quartile range (IQR)\n",
    "IQR = Q3 - Q1\n",
    "print('IQR: ',round(IQR,2))\n",
    "\n",
    "#check the lower and upper limit \n",
    "low_lm = Q1-1.5*IQR\n",
    "upp_lm = Q3+1.5*IQR\n",
    "print(\"Lower limit is : \",round(low_lm,2))\n",
    "print(\"Upper limit is : \",round(upp_lm,2))\n",
    "\n",
    "'''Normally the datapoints which fall below Q1-1.5(IQR) and above Q3+1.5(IQR) are considered as outliers.\n",
    " If the value above the upper limit or below the lower limit we need to remove that outliers.'''\n",
    "\n",
    " # display the outilers\n",
    "outliers = []\n",
    "for i in iris_data['SW']:\n",
    "  if((i>upp_lm)or(i<low_lm)):\n",
    "    outliers.append(i)\n",
    "\n",
    "print(\"Outliers in the Sepal Width: \",outliers)"
   ]
  },
  {
   "cell_type": "markdown",
   "metadata": {
    "id": "m37TSV6nCRjr"
   },
   "source": [
    "As you can see that these values are the outliers in the Sepal Width feature and also we can observe that there is one lower limit value and remaining all the upper limit values as outliers. Now we need to find the index values for the outliers. "
   ]
  },
  {
   "cell_type": "code",
   "execution_count": 21,
   "metadata": {
    "id": "46jSmO4dC09s"
   },
   "outputs": [
    {
     "name": "stdout",
     "output_type": "stream",
     "text": [
      "The outliers index value of lower limit is Int64Index([60], dtype='int64') \n",
      "and upper limit is Int64Index([14, 15, 32, 33], dtype='int64')\n"
     ]
    }
   ],
   "source": [
    "# select the index of these outliers\n",
    "indx_low = iris_data['SW']<low_lm\n",
    "outlier_indx_low = iris_data.loc[indx_low].index\n",
    "\n",
    "indx_upp = iris_data['SW']>upp_lm\n",
    "outlier_indx_upp= iris_data.loc[indx_upp].index\n",
    "\n",
    "print('The outliers index value of lower limit is {}'.format(outlier_indx_low),\n",
    "      '\\nand upper limit is {}'.format(outlier_indx_upp))"
   ]
  },
  {
   "cell_type": "code",
   "execution_count": 22,
   "metadata": {
    "id": "NV3B8cwxSC_8"
   },
   "outputs": [],
   "source": [
    "# drop these index for removing outliers\n",
    "iris_data.drop(outlier_indx_low, inplace=True)\n",
    "iris_data.drop(outlier_indx_upp, inplace=True)"
   ]
  },
  {
   "cell_type": "code",
   "execution_count": 23,
   "metadata": {
    "id": "yhG1LDclUNzI"
   },
   "outputs": [
    {
     "data": {
      "image/png": "[encoded data removed]",
      "text/plain": [
       "<Figure size 576x360 with 1 Axes>"
      ]
     },
     "metadata": {
      "needs_background": "light"
     },
     "output_type": "display_data"
    }
   ],
   "source": [
    "# boxplot after removing the outliers from Sepal Width feature\n",
    "fig = plt.figure(figsize=(8,5))\n",
    "iris_data['SW'].plot(kind='box')\n",
    "fig.suptitle('Sepal Width')\n",
    "plt.show()"
   ]
  },
  {
   "cell_type": "markdown",
   "metadata": {
    "id": "k6ROXmFj0-n2"
   },
   "source": [
    "From the above boxplot we can see that we reduced the outliers from the Sepal Width(SW) feature."
   ]
  },
  {
   "cell_type": "code",
   "execution_count": 24,
   "metadata": {
    "id": "8P3raBBY0x2T"
   },
   "outputs": [
    {
     "name": "stdout",
     "output_type": "stream",
     "text": [
      "<class 'pandas.core.frame.DataFrame'>\n",
      "Int64Index: 145 entries, 0 to 149\n",
      "Data columns (total 5 columns):\n",
      " #   Column          Non-Null Count  Dtype  \n",
      "---  ------          --------------  -----  \n",
      " 0   SL              145 non-null    float64\n",
      " 1   SW              145 non-null    float64\n",
      " 2   PL              145 non-null    float64\n",
      " 3   PW              145 non-null    float64\n",
      " 4   Classification  145 non-null    object \n",
      "dtypes: float64(4), object(1)\n",
      "memory usage: 6.8+ KB\n"
     ]
    }
   ],
   "source": [
    "# Summary of the data\n",
    "iris_data.info()"
   ]
  },
  {
   "cell_type": "code",
   "execution_count": 25,
   "metadata": {
    "id": "WTLq8buG0yjM"
   },
   "outputs": [
    {
     "data": {
      "text/html": [
       "<div>\n",
       "<style scoped>\n",
       "    .dataframe tbody tr th:only-of-type {\n",
       "        vertical-align: middle;\n",
       "    }\n",
       "\n",
       "    .dataframe tbody tr th {\n",
       "        vertical-align: top;\n",
       "    }\n",
       "\n",
       "    .dataframe thead th {\n",
       "        text-align: right;\n",
       "    }\n",
       "</style>\n",
       "<table border=\"1\" class=\"dataframe\">\n",
       "  <thead>\n",
       "    <tr style=\"text-align: right;\">\n",
       "      <th></th>\n",
       "      <th>SL</th>\n",
       "      <th>SW</th>\n",
       "      <th>PL</th>\n",
       "      <th>PW</th>\n",
       "    </tr>\n",
       "  </thead>\n",
       "  <tbody>\n",
       "    <tr>\n",
       "      <th>count</th>\n",
       "      <td>145.000000</td>\n",
       "      <td>145.000000</td>\n",
       "      <td>145.000000</td>\n",
       "      <td>145.000000</td>\n",
       "    </tr>\n",
       "    <tr>\n",
       "      <th>mean</th>\n",
       "      <td>5.870287</td>\n",
       "      <td>3.025489</td>\n",
       "      <td>3.823017</td>\n",
       "      <td>1.226897</td>\n",
       "    </tr>\n",
       "    <tr>\n",
       "      <th>std</th>\n",
       "      <td>0.816690</td>\n",
       "      <td>0.374355</td>\n",
       "      <td>1.709115</td>\n",
       "      <td>0.758219</td>\n",
       "    </tr>\n",
       "    <tr>\n",
       "      <th>min</th>\n",
       "      <td>4.300000</td>\n",
       "      <td>2.200000</td>\n",
       "      <td>1.000000</td>\n",
       "      <td>0.100000</td>\n",
       "    </tr>\n",
       "    <tr>\n",
       "      <th>25%</th>\n",
       "      <td>5.200000</td>\n",
       "      <td>2.800000</td>\n",
       "      <td>1.600000</td>\n",
       "      <td>0.300000</td>\n",
       "    </tr>\n",
       "    <tr>\n",
       "      <th>50%</th>\n",
       "      <td>5.855944</td>\n",
       "      <td>3.000000</td>\n",
       "      <td>4.300000</td>\n",
       "      <td>1.300000</td>\n",
       "    </tr>\n",
       "    <tr>\n",
       "      <th>75%</th>\n",
       "      <td>6.400000</td>\n",
       "      <td>3.200000</td>\n",
       "      <td>5.100000</td>\n",
       "      <td>1.800000</td>\n",
       "    </tr>\n",
       "    <tr>\n",
       "      <th>max</th>\n",
       "      <td>7.900000</td>\n",
       "      <td>3.900000</td>\n",
       "      <td>6.900000</td>\n",
       "      <td>2.500000</td>\n",
       "    </tr>\n",
       "  </tbody>\n",
       "</table>\n",
       "</div>"
      ],
      "text/plain": [
       "               SL          SW          PL          PW\n",
       "count  145.000000  145.000000  145.000000  145.000000\n",
       "mean     5.870287    3.025489    3.823017    1.226897\n",
       "std      0.816690    0.374355    1.709115    0.758219\n",
       "min      4.300000    2.200000    1.000000    0.100000\n",
       "25%      5.200000    2.800000    1.600000    0.300000\n",
       "50%      5.855944    3.000000    4.300000    1.300000\n",
       "75%      6.400000    3.200000    5.100000    1.800000\n",
       "max      7.900000    3.900000    6.900000    2.500000"
      ]
     },
     "execution_count": 25,
     "metadata": {},
     "output_type": "execute_result"
    }
   ],
   "source": [
    "# Statistical Summary of the data\n",
    "iris_data.describe()"
   ]
  },
  {
   "cell_type": "markdown",
   "metadata": {
    "id": "yxnvqwxAT3rx"
   },
   "source": [
    "For filling with mean did not introduce observable change in iris dataset"
   ]
  },
  {
   "cell_type": "code",
   "execution_count": 26,
   "metadata": {
    "id": "A5SqgPQaUJZw"
   },
   "outputs": [],
   "source": [
    "# Label Encode with target 'Classification' feature\n",
    "from sklearn.preprocessing import LabelEncoder\n",
    "iris_data['Classification'] = LabelEncoder().fit_transform(iris_data['Classification'])"
   ]
  },
  {
   "cell_type": "code",
   "execution_count": 27,
   "metadata": {
    "id": "tm07DYV1U-65"
   },
   "outputs": [
    {
     "data": {
      "text/plain": [
       "2    50\n",
       "1    49\n",
       "0    46\n",
       "Name: Classification, dtype: int64"
      ]
     },
     "execution_count": 27,
     "metadata": {},
     "output_type": "execute_result"
    }
   ],
   "source": [
    "# check the target variable after label encode\n",
    "iris_data['Classification'].value_counts()"
   ]
  },
  {
   "cell_type": "markdown",
   "metadata": {
    "id": "YXZ5WGLvuHFX"
   },
   "source": [
    "### 3. Find out which classification model gives the best result to predict iris species.(also do random forest algorithm)"
   ]
  },
  {
   "cell_type": "code",
   "execution_count": 28,
   "metadata": {
    "id": "v0q-W8GbWxVk"
   },
   "outputs": [],
   "source": [
    "# Function to check model performances\n",
    "from sklearn.metrics import f1_score, accuracy_score, precision_score, recall_score, confusion_matrix\n",
    "def check_model_metrices(y_test, y_pred):\n",
    "    print('Model Accuracy = ', accuracy_score(y_test, y_pred))\n",
    "    print('Model Precision = ', precision_score(y_test, y_pred, average='micro'))\n",
    "    print('Model Recall = ', recall_score(y_test, y_pred, average='micro'))\n",
    "    print('Model F1 Score = ', f1_score(y_test, y_pred, average='micro'))\n",
    "    print('Confusion Matrix = \\n', confusion_matrix(y_test, y_pred))"
   ]
  },
  {
   "cell_type": "code",
   "execution_count": 29,
   "metadata": {
    "id": "kj4gsAQfVb88"
   },
   "outputs": [
    {
     "name": "stdout",
     "output_type": "stream",
     "text": [
      "Feature shape: (145, 4)\n"
     ]
    }
   ],
   "source": [
    "# Extract feature columns\n",
    "feature_cols = list(iris_data.columns[:-1])\n",
    "\n",
    "# Extract target column 'CLassification'\n",
    "target_col = iris_data.columns[-1] \n",
    "\n",
    "# Separate the data into feature data and target data (X and y, respectively),this method is called feature selection\n",
    "X = iris_data[feature_cols]\n",
    "y = iris_data[target_col]\n",
    "print(f'Feature shape: {X.shape}')"
   ]
  },
  {
   "cell_type": "code",
   "execution_count": 30,
   "metadata": {
    "id": "BJQEbjU4XOuF"
   },
   "outputs": [
    {
     "name": "stdout",
     "output_type": "stream",
     "text": [
      "Training set has 101 samples.\n",
      "Testing set has 44 samples.\n"
     ]
    }
   ],
   "source": [
    "# splitting the data into train and test \n",
    "from sklearn.model_selection import train_test_split\n",
    "# training points (approximately 70%) and testing points (approximately 30%).\n",
    "X_train, X_test, y_train, y_test = train_test_split(X, y, random_state=42, test_size=0.3)\n",
    "\n",
    "# Show the results of the split\n",
    "print(\"Training set has {} samples.\".format(X_train.shape[0]))\n",
    "print(\"Testing set has {} samples.\".format(X_test.shape[0]))"
   ]
  },
  {
   "cell_type": "markdown",
   "metadata": {
    "id": "-e4HKv9TPuZi"
   },
   "source": [
    "### Model 1. Multinomial Logistic regression"
   ]
  },
  {
   "cell_type": "code",
   "execution_count": 31,
   "metadata": {
    "id": "sZ6ytz9ZVNVp"
   },
   "outputs": [],
   "source": [
    "from sklearn.linear_model import LogisticRegression\n",
    "lr = LogisticRegression(multi_class='multinomial', solver='newton-cg') # solver - Algorithm to use in the optimization\n",
    "lr.fit(X_train, y_train)\n",
    "lr_pred = lr.predict(X_test)\n"
   ]
  },
  {
   "cell_type": "code",
   "execution_count": 32,
   "metadata": {
    "id": "NSbwp8dMlgYY"
   },
   "outputs": [
    {
     "name": "stdout",
     "output_type": "stream",
     "text": [
      "Model Accuracy =  0.8863636363636364\n",
      "Model Precision =  0.8863636363636364\n",
      "Model Recall =  0.8863636363636364\n",
      "Model F1 Score =  0.8863636363636365\n",
      "Confusion Matrix = \n",
      " [[14  1  0]\n",
      " [ 0 10  1]\n",
      " [ 0  3 15]]\n"
     ]
    }
   ],
   "source": [
    "# Calling function to check model performances\n",
    "check_model_metrices(y_test, lr_pred)"
   ]
  },
  {
   "cell_type": "markdown",
   "metadata": {
    "id": "0_kWRIXyYW4P"
   },
   "source": [
    "For good model, accuracy and F1 score should be maximum possible. As per the Multinomial Logistic regression model has performed well with an accuracy of 88.63% with just 5 misclassification."
   ]
  },
  {
   "cell_type": "markdown",
   "metadata": {
    "id": "Uhbi9D5KQJBx"
   },
   "source": [
    "### Model 2: K-Nearest Neighbors(KNN)"
   ]
  },
  {
   "cell_type": "code",
   "execution_count": 33,
   "metadata": {
    "id": "H3XpJpMWP5Ia"
   },
   "outputs": [
    {
     "data": {
      "text/plain": [
       "[0.9318181818181818,\n",
       " 0.9318181818181818,\n",
       " 0.9318181818181818,\n",
       " 0.9090909090909091,\n",
       " 0.9318181818181818,\n",
       " 0.9318181818181818,\n",
       " 0.9318181818181818,\n",
       " 0.9318181818181818,\n",
       " 0.9318181818181818,\n",
       " 0.8863636363636364,\n",
       " 0.9318181818181818,\n",
       " 0.9090909090909091,\n",
       " 0.9090909090909091]"
      ]
     },
     "execution_count": 33,
     "metadata": {},
     "output_type": "execute_result"
    }
   ],
   "source": [
    "from sklearn.neighbors import KNeighborsClassifier\n",
    "acc_values = [] #find the optimum k values\n",
    "neighbors = np.arange(3,16)\n",
    "for k in neighbors:\n",
    "  classifier = KNeighborsClassifier(n_neighbors=k, metric='minkowski')\n",
    "  classifier.fit(X_train,y_train)\n",
    "  y_pred = classifier.predict(X_test)\n",
    "  acc = accuracy_score(y_test,y_pred) # find the maximum accuracy\n",
    "  acc_values.append(acc)\n",
    "\n",
    "acc_values"
   ]
  },
  {
   "cell_type": "code",
   "execution_count": 34,
   "metadata": {
    "id": "4WOXpiwOQTXI"
   },
   "outputs": [
    {
     "data": {
      "text/plain": [
       "Text(0, 0.5, 'accuracy')"
      ]
     },
     "execution_count": 34,
     "metadata": {},
     "output_type": "execute_result"
    },
    {
     "data": {
      "image/png": "[encoded data removed]",
      "text/plain": [
       "<Figure size 432x288 with 1 Axes>"
      ]
     },
     "metadata": {
      "needs_background": "light"
     },
     "output_type": "display_data"
    }
   ],
   "source": [
    "plt.plot(neighbors, acc_values,'o-')\n",
    "plt.xlabel('k value')\n",
    "plt.ylabel('accuracy')"
   ]
  },
  {
   "cell_type": "markdown",
   "metadata": {
    "id": "hdy43BFDQWB5"
   },
   "source": [
    "As you can see best k value is 3"
   ]
  },
  {
   "cell_type": "code",
   "execution_count": 35,
   "metadata": {
    "id": "LVV3ZSpAQULE"
   },
   "outputs": [
    {
     "name": "stdout",
     "output_type": "stream",
     "text": [
      "Model Accuracy =  0.9318181818181818\n",
      "Model Precision =  0.9318181818181818\n",
      "Model Recall =  0.9318181818181818\n",
      "Model F1 Score =  0.9318181818181818\n",
      "Confusion Matrix = \n",
      " [[14  1  0]\n",
      " [ 0 10  1]\n",
      " [ 0  1 17]]\n"
     ]
    }
   ],
   "source": [
    "# now we can make the model with k value as 3\n",
    "classifier = KNeighborsClassifier(n_neighbors=3, metric='minkowski')\n",
    "classifier.fit(X_train,y_train)\n",
    "y_pred = classifier.predict(X_test)\n",
    "\n",
    "# Calling function to check model performances\n",
    "check_model_metrices(y_test, y_pred)"
   ]
  },
  {
   "cell_type": "markdown",
   "metadata": {
    "id": "VXNvwFPZdRRL"
   },
   "source": [
    "As per the  K-Nearest Neighbors(KNN) model has performed well with an accuracy of 93.18% with 3 misclassification."
   ]
  },
  {
   "cell_type": "markdown",
   "metadata": {
    "id": "gU_Z-wjfQdxZ"
   },
   "source": [
    "Accuracy and F1 Score is much improvement in KNN model"
   ]
  },
  {
   "cell_type": "markdown",
   "metadata": {
    "id": "vKh0N2NwdqUs"
   },
   "source": [
    "### Model 3: SVM(Support Vector Machine) with multi-class\n"
   ]
  },
  {
   "cell_type": "markdown",
   "metadata": {
    "id": "C8_NCA2fej6j"
   },
   "source": [
    "SVM Kernel have 3 types\n",
    "1. Linear\n",
    "2. Polynomial\n",
    "3. Radial Basis Function (RBF)"
   ]
  },
  {
   "cell_type": "code",
   "execution_count": 36,
   "metadata": {
    "id": "zBA0PnLSdpyA"
   },
   "outputs": [],
   "source": [
    "# Linear SVM\n",
    "from sklearn.svm import SVC\n",
    "# decision_function_shape is set to One-vs_One for multi-class\n",
    "linear = SVC(kernel='linear', decision_function_shape='ovo') \n",
    "linear.fit(X_train, y_train)\n",
    "linear_pred = linear.predict(X_test)"
   ]
  },
  {
   "cell_type": "code",
   "execution_count": 37,
   "metadata": {
    "id": "wF0UWWC3QhwR"
   },
   "outputs": [
    {
     "name": "stdout",
     "output_type": "stream",
     "text": [
      "Model Accuracy =  0.9090909090909091\n",
      "Model Precision =  0.9090909090909091\n",
      "Model Recall =  0.9090909090909091\n",
      "Model F1 Score =  0.9090909090909091\n",
      "Confusion Matrix = \n",
      " [[15  0  0]\n",
      " [ 0 10  1]\n",
      " [ 0  3 15]]\n"
     ]
    }
   ],
   "source": [
    "# Calling function to check model performances\n",
    "check_model_metrices(y_test, linear_pred)"
   ]
  },
  {
   "cell_type": "markdown",
   "metadata": {
    "id": "cmv1-Q-ceNO2"
   },
   "source": [
    "As per the SVM(Support Vector Machine) with multi-class using linear kernel model has performed well with an accuracy of 90.90% with 4 misclassification.\n",
    "\n",
    "Accuracy and F1 Score is much improvement with Logistic Regression and not improved with KNN."
   ]
  },
  {
   "cell_type": "code",
   "execution_count": 38,
   "metadata": {
    "id": "BRZECoFEfjIu"
   },
   "outputs": [],
   "source": [
    "# Polynomial SVM\n",
    "# decision_function_shape is set to One-vs_One for multi-class\n",
    "poly = SVC(kernel='poly', degree = 3, decision_function_shape='ovo')\n",
    "poly.fit(X_train, y_train)\n",
    "poly_pred = poly.predict(X_test)"
   ]
  },
  {
   "cell_type": "code",
   "execution_count": 39,
   "metadata": {
    "id": "6b37uUzefyEZ"
   },
   "outputs": [
    {
     "name": "stdout",
     "output_type": "stream",
     "text": [
      "Model Accuracy =  0.9318181818181818\n",
      "Model Precision =  0.9318181818181818\n",
      "Model Recall =  0.9318181818181818\n",
      "Model F1 Score =  0.9318181818181818\n",
      "Confusion Matrix = \n",
      " [[15  0  0]\n",
      " [ 0 10  1]\n",
      " [ 0  2 16]]\n"
     ]
    }
   ],
   "source": [
    "# Calling function to check model performances\n",
    "check_model_metrices(y_test, poly_pred)"
   ]
  },
  {
   "cell_type": "markdown",
   "metadata": {
    "id": "GpDF9r05g8QE"
   },
   "source": [
    "As per the SVM(Support Vector Machine) with multi-class using polinomial kernel model has performed well with an accuracy of 93.18% with 3 misclassification.\n",
    "\n",
    "Accuracy and F1 Score is much improvement with Logistic Regression and SVM linear kernel also not improved with KNN."
   ]
  },
  {
   "cell_type": "code",
   "execution_count": 40,
   "metadata": {
    "id": "rAdCPTKPfbd-"
   },
   "outputs": [],
   "source": [
    "# Radial Basis Function (RBF) SVM\n",
    "# decision_function_shape is set to One-vs_One for multi-class\n",
    "rbf = SVC(kernel='rbf', decision_function_shape='ovo') \n",
    "rbf.fit(X_train, y_train)\n",
    "rbf_pred = rbf.predict(X_test)"
   ]
  },
  {
   "cell_type": "code",
   "execution_count": 41,
   "metadata": {
    "id": "IFPAB8DqfcQF"
   },
   "outputs": [
    {
     "name": "stdout",
     "output_type": "stream",
     "text": [
      "Model Accuracy =  0.8636363636363636\n",
      "Model Precision =  0.8636363636363636\n",
      "Model Recall =  0.8636363636363636\n",
      "Model F1 Score =  0.8636363636363636\n",
      "Confusion Matrix = \n",
      " [[14  1  0]\n",
      " [ 0 10  1]\n",
      " [ 0  4 14]]\n"
     ]
    }
   ],
   "source": [
    "# Calling function to check model performances\n",
    "check_model_metrices(y_test, rbf_pred)"
   ]
  },
  {
   "cell_type": "markdown",
   "metadata": {
    "id": "rEZOFdXJhXy6"
   },
   "source": [
    "As per the SVM(Support Vector Machine) with multi-class using RBF kernel model has performed well with an accuracy of 86.63% with 6 misclassification.\n",
    "\n",
    "Accuracy and F1 Score is no improvement with other classification model."
   ]
  },
  {
   "cell_type": "markdown",
   "metadata": {
    "id": "C3eU0VOchtgD"
   },
   "source": [
    "### Model 4: Decision Trees"
   ]
  },
  {
   "cell_type": "code",
   "execution_count": 42,
   "metadata": {
    "id": "hAHoSFkTfcVU"
   },
   "outputs": [],
   "source": [
    "from sklearn.tree import DecisionTreeClassifier\n",
    "dt_model = DecisionTreeClassifier()\n",
    "dt_model.fit(X_train, y_train)\n",
    "dt_pred = dt_model.predict(X_test)"
   ]
  },
  {
   "cell_type": "code",
   "execution_count": 43,
   "metadata": {
    "id": "PdSkhCgAh80K"
   },
   "outputs": [
    {
     "name": "stdout",
     "output_type": "stream",
     "text": [
      "Model Accuracy =  0.9090909090909091\n",
      "Model Precision =  0.9090909090909091\n",
      "Model Recall =  0.9090909090909091\n",
      "Model F1 Score =  0.9090909090909091\n",
      "Confusion Matrix = \n",
      " [[15  0  0]\n",
      " [ 0 11  0]\n",
      " [ 0  4 14]]\n"
     ]
    }
   ],
   "source": [
    "# Calling function to check model performances\n",
    "check_model_metrices(y_test, dt_pred)"
   ]
  },
  {
   "cell_type": "markdown",
   "metadata": {},
   "source": [
    "As per the Decision Trees model has performed well with an accuracy of 90.90% with 4 misclassification.\n",
    "\n",
    "Accuracy and F1 Score is no improvement with other classification model."
   ]
  },
  {
   "cell_type": "markdown",
   "metadata": {
    "id": "ZI_VZU3BhxZu"
   },
   "source": [
    "### Model 5: Random Forest"
   ]
  },
  {
   "cell_type": "code",
   "execution_count": 44,
   "metadata": {
    "id": "7am5Dq4ZfcaE"
   },
   "outputs": [],
   "source": [
    "from sklearn.ensemble import RandomForestClassifier\n",
    "rf = RandomForestClassifier()\n",
    "rf.fit(X_train, y_train)\n",
    "rf_pred = rf.predict(X_test)"
   ]
  },
  {
   "cell_type": "code",
   "execution_count": 45,
   "metadata": {
    "id": "isfo-Y7rfcen"
   },
   "outputs": [
    {
     "name": "stdout",
     "output_type": "stream",
     "text": [
      "Model Accuracy =  0.9318181818181818\n",
      "Model Precision =  0.9318181818181818\n",
      "Model Recall =  0.9318181818181818\n",
      "Model F1 Score =  0.9318181818181818\n",
      "Confusion Matrix = \n",
      " [[15  0  0]\n",
      " [ 0 11  0]\n",
      " [ 0  3 15]]\n"
     ]
    }
   ],
   "source": [
    "# Calling function to check model performances\n",
    "check_model_metrices(y_test, rf_pred)"
   ]
  },
  {
   "cell_type": "markdown",
   "metadata": {},
   "source": [
    "As per the Random Forest model has performed well with an accuracy of 93.18% with 3 misclassification.\n",
    "\n",
    "Accuracy and F1 Score is no improvement with Polynomial SVM and KNN models."
   ]
  },
  {
   "cell_type": "markdown",
   "metadata": {},
   "source": [
    "# Final Verdict\n",
    "\n",
    "From the analysis, the best performed supervised learning models are:\n",
    "\n",
    "1. K-Nearest Neighbors(KNN)\n",
    "2. Polynomial SVM(Support Vector Machine) \n",
    "3. Random Forest\n",
    "\n",
    "These models are performed well with an accuracy of 93.18%"
   ]
  }
 ],
 "metadata": {
  "colab": {
   "collapsed_sections": [],
   "name": "Case Study #07- Supervised Learning.ipynb",
   "private_outputs": true,
   "provenance": []
  },
  "kernelspec": {
   "display_name": "Python 3",
   "language": "python",
   "name": "python3"
  },
  "language_info": {
   "codemirror_mode": {
    "name": "ipython",
    "version": 3
   },
   "file_extension": ".py",
   "mimetype": "text/x-python",
   "name": "python",
   "nbconvert_exporter": "python",
   "pygments_lexer": "ipython3",
   "version": "3.8.8"
  }
 },
 "nbformat": 4,
 "nbformat_minor": 1
}
