{
  "nbformat": 4,
  "nbformat_minor": 0,
  "metadata": {
    "kernelspec": {
      "display_name": "Python 3",
      "language": "python",
      "name": "python3"
    },
    "language_info": {
      "codemirror_mode": {
        "name": "ipython",
        "version": 3
      },
      "file_extension": ".py",
      "mimetype": "text/x-python",
      "name": "python",
      "nbconvert_exporter": "python",
      "pygments_lexer": "ipython3",
      "version": "3.7.6"
    },
    "colab": {
      "name": "Renjith_R_T_Q&A_activity_student_file.ipynb",
      "provenance": [],
      "collapsed_sections": []
    }
  },
  "cells": [
    {
      "cell_type": "markdown",
      "metadata": {
        "id": "4z_Z-K1tlrS7"
      },
      "source": [
        "## 1. Complete the following code to find the area of an equilateral triangle. Output should be as displayed"
      ]
    },
    {
      "cell_type": "code",
      "metadata": {
        "id": "rP2qFD_SlrS_",
        "colab": {
          "base_uri": "https://localhost:8080/"
        },
        "outputId": "9482e9ef-256f-40e3-a070-84ac23cfd2a9"
      },
      "source": [
        "import math\n",
        "side = float(input(\"Enter the side of the equilateral triangle: \"))\n",
        "area = ((math.sqrt(3))/4)*pow(side,2)\n",
        "print(\"Area = \", round(area,3)) # The output value is mentioned 3 decimal value so we can use round() function."
      ],
      "execution_count": null,
      "outputs": [
        {
          "output_type": "stream",
          "name": "stdout",
          "text": [
            "Enter the side of the equilateral triangle: 4\n",
            "Area =  6.928\n"
          ]
        }
      ]
    },
    {
      "cell_type": "markdown",
      "metadata": {
        "id": "TjVKjIfclrTB"
      },
      "source": [
        "## 2. Write a program to count the number of each characters in a string"
      ]
    },
    {
      "cell_type": "code",
      "metadata": {
        "id": "JY5seVUQlrTC",
        "colab": {
          "base_uri": "https://localhost:8080/"
        },
        "outputId": "4eccc3b9-5d00-40f8-bded-c8489500a34b"
      },
      "source": [
        "String_name = str(input(\"Enter the charachter that you want to count: \"))\n",
        "count = 0\n",
        "for i in range(0,len(String_name)):\n",
        "  if (String_name[i] != ' '): # we don't need to count space in between the characters.\n",
        "    count += 1 \n",
        "print(\"The total number of characters in a given string is \" + str(count))\n"
      ],
      "execution_count": null,
      "outputs": [
        {
          "output_type": "stream",
          "name": "stdout",
          "text": [
            "Enter the charachter that you want to count: ICT Academy\n",
            "The total number of characters in a given string is 10\n"
          ]
        }
      ]
    },
    {
      "cell_type": "markdown",
      "metadata": {
        "id": "l3LCULfklrTD"
      },
      "source": [
        "## 3. Write a program to find the area and perimeter of a rectangle using functions"
      ]
    },
    {
      "cell_type": "code",
      "metadata": {
        "id": "8haQD8edlrTD",
        "colab": {
          "base_uri": "https://localhost:8080/"
        },
        "outputId": "bdc025de-6be6-425f-8d49-d4e041c97872"
      },
      "source": [
        "def Area_perimeter_rectangle(length,breadth):\n",
        "  area = length * breadth\n",
        "  perimeter = 2 * (length + breadth)\n",
        "  print(\"The area of a rectangle is : %.2f\" %area)\n",
        "  print(\"The perimeter of a rectangle is : %.2f\" %perimeter)\n",
        "  \n",
        "length = float(input('Enter the length of a rectangle: '))\n",
        "breadth  = float(input('Enter the breadth  of a rectangle: '))\n",
        "Area_perimeter_rectangle(length,breadth)"
      ],
      "execution_count": 54,
      "outputs": [
        {
          "output_type": "stream",
          "name": "stdout",
          "text": [
            "Enter the length of a rectangle: 5\n",
            "Enter the breadth  of a rectangle: 10\n",
            "The area of a rectangle is : 50.00\n",
            "The perimeter of a rectangle is : 30.00\n"
          ]
        }
      ]
    },
    {
      "cell_type": "markdown",
      "metadata": {
        "id": "JHK4ZdsflrTE"
      },
      "source": [
        "## 4. Write a program to print the fibonacci series till a specified number"
      ]
    },
    {
      "cell_type": "code",
      "metadata": {
        "id": "LyBEj-4SlrTE",
        "colab": {
          "base_uri": "https://localhost:8080/"
        },
        "outputId": "5d6ce1bf-b7fc-4319-d8ed-af0d4c659de6"
      },
      "source": [
        "nth_terms = int(input(\"Enter the limits: \"))\n",
        "n1,n2,n3 = 0, 1, 0\n",
        "print(n1)\n",
        "print(n2)\n",
        "\n",
        "while(n3 < nth_terms):\n",
        "  n3 = n2+n1\n",
        "  n1 = n2\n",
        "  n2 = n3\n",
        "  print(n3)"
      ],
      "execution_count": 53,
      "outputs": [
        {
          "output_type": "stream",
          "name": "stdout",
          "text": [
            "Enter the limits: 7\n",
            "0\n",
            "1\n",
            "1\n",
            "2\n",
            "3\n",
            "5\n",
            "8\n"
          ]
        }
      ]
    },
    {
      "cell_type": "markdown",
      "metadata": {
        "id": "u4uBUcQKlrTE"
      },
      "source": [
        "## 5. Complete the following code to find the minimum of 3 number using conditional statements. Output should be as displayed"
      ]
    },
    {
      "cell_type": "code",
      "metadata": {
        "colab": {
          "base_uri": "https://localhost:8080/"
        },
        "id": "FTqqtb1yMB84",
        "outputId": "11cef9d6-f06c-4342-80cb-581fd5f60bf9"
      },
      "source": [
        "a,b,c = input(\"Enter three numbers followed by space : \").split()\n",
        "\n",
        "print(\"First number :\",a)\n",
        "print(\"Second number :\",b)\n",
        "print(\"Third number :\",c)\n",
        "if a == b or b == c or a == c:\n",
        "  print(\"Entered numbers are equal!!!\")\n",
        "elif a < b and a < c:\n",
        "  print(a,\" is smallest\")\n",
        "elif b < c:\n",
        "  print(b,\" is smallest\")\n",
        "else:\n",
        "  print(c,\" is smallest\")"
      ],
      "execution_count": 35,
      "outputs": [
        {
          "output_type": "stream",
          "name": "stdout",
          "text": [
            "Enter three numbers followed by space : 3 -11 12\n",
            "First number : 3\n",
            "Second number : -11\n",
            "Third number : 12\n",
            "-11  is smallest\n"
          ]
        }
      ]
    },
    {
      "cell_type": "markdown",
      "metadata": {
        "id": "aR_CnToWlrTG"
      },
      "source": [
        "## 6. Write a program to print star pyramind. The number of rows should be taken as input from the user"
      ]
    },
    {
      "cell_type": "code",
      "metadata": {
        "id": "M37A-buplrTG",
        "colab": {
          "base_uri": "https://localhost:8080/"
        },
        "outputId": "81cde88e-dd71-4d71-8313-015a1f5a1b21"
      },
      "source": [
        "number =int(input(\"Enter the number of rows: \"))\n",
        "for i in range(0,number):\n",
        "  for j in range(0,i+1):\n",
        "    print(\"*\", end = \" \")\n",
        "  print(\"\\r\")"
      ],
      "execution_count": 48,
      "outputs": [
        {
          "output_type": "stream",
          "name": "stdout",
          "text": [
            "Enter the number of rows: 6\n",
            "* \n",
            "* * \n",
            "* * * \n",
            "* * * * \n",
            "* * * * * \n",
            "* * * * * * \n"
          ]
        }
      ]
    },
    {
      "cell_type": "markdown",
      "metadata": {
        "id": "tlY6aFWBlrTH"
      },
      "source": [
        "## 7. Complete the following code to convert hour into seconds. Output should be as displayed"
      ]
    },
    {
      "cell_type": "code",
      "metadata": {
        "id": "YOZQFk7FlrTH",
        "colab": {
          "base_uri": "https://localhost:8080/"
        },
        "outputId": "00996094-d432-4e35-894b-bdc964847b7e"
      },
      "source": [
        "def to_seconds(t):  \n",
        "  return t * 3600\n",
        "time_in_hours = int(input(\"Enter time in Hours : \"))\n",
        "print(time_in_hours ,\" Hour is equal to\" ,to_seconds(time_in_hours) ,\" Seconds\")"
      ],
      "execution_count": 49,
      "outputs": [
        {
          "output_type": "stream",
          "name": "stdout",
          "text": [
            "Enter time in Hours : 12\n",
            "12  Hour is equal to 43200  Seconds\n"
          ]
        }
      ]
    },
    {
      "cell_type": "markdown",
      "metadata": {
        "id": "CnYorNiLlrTI"
      },
      "source": [
        "## 8. Write a program to print multiplication table as below"
      ]
    },
    {
      "cell_type": "code",
      "metadata": {
        "id": "dPQqDPuDlrTI",
        "colab": {
          "base_uri": "https://localhost:8080/"
        },
        "outputId": "6cdd1fb0-c5f8-400d-d5cb-31e960731008"
      },
      "source": [
        "def multiply(n):\n",
        "  for i in range(1,11):\n",
        "    print(i, \" * \", n, \" = \", i * n)\n",
        "\n",
        "number = int(input(\"Enter a number to find the multiplication table: \"))\n",
        "multiply(number)"
      ],
      "execution_count": null,
      "outputs": [
        {
          "output_type": "stream",
          "name": "stdout",
          "text": [
            "Enter a number to find the multiplication table: 4\n",
            "1  *  4  =  4\n",
            "2  *  4  =  8\n",
            "3  *  4  =  12\n",
            "4  *  4  =  16\n",
            "5  *  4  =  20\n",
            "6  *  4  =  24\n",
            "7  *  4  =  28\n",
            "8  *  4  =  32\n",
            "9  *  4  =  36\n",
            "10  *  4  =  40\n"
          ]
        }
      ]
    },
    {
      "cell_type": "markdown",
      "metadata": {
        "id": "Fiaez8iblrTI"
      },
      "source": [
        "## 9. Write a program to take your 5 favorite food as list and print each as 'I like Biriyani'"
      ]
    },
    {
      "cell_type": "code",
      "metadata": {
        "id": "39W1zFX7lrTJ",
        "colab": {
          "base_uri": "https://localhost:8080/"
        },
        "outputId": "a9268b45-2aee-444c-95eb-06551464d772"
      },
      "source": [
        "f1,f2,f3,f4,f5 = input(\"Enter your favorite food list followed by space : \").split()\n",
        "print(\"I like \", f1)\n",
        "print(\"I like \", f2)\n",
        "print(\"I like \", f3)\n",
        "print(\"I like \", f4)\n",
        "print(\"I like \", f5)"
      ],
      "execution_count": 44,
      "outputs": [
        {
          "output_type": "stream",
          "name": "stdout",
          "text": [
            "Enter your favorite food list followed by space : Apple Orange papaya snacks egg\n",
            "I like  Apple\n",
            "I like  Orange\n",
            "I like  papaya\n",
            "I like  snacks\n",
            "I like  egg\n"
          ]
        }
      ]
    },
    {
      "cell_type": "markdown",
      "metadata": {
        "id": "3vlcDNNEP7d_"
      },
      "source": [
        "## 10. Find error(s) in the following code(if any) and rewrite code.\n",
        "\n"
      ]
    },
    {
      "cell_type": "code",
      "metadata": {
        "id": "coREkcY3P9sG",
        "colab": {
          "base_uri": "https://localhost:8080/"
        },
        "outputId": "733ed65d-a35d-4070-a891-042430ab5b46"
      },
      "source": [
        "x = int(input('Enter value of x:'))\n",
        "for y in range (0,10):\n",
        "  if (x == y):\n",
        "    print(\"They are equal\")\n",
        "  else:\n",
        "    print( \"They are unequal\")"
      ],
      "execution_count": 42,
      "outputs": [
        {
          "output_type": "stream",
          "name": "stdout",
          "text": [
            "Enter value of x:7\n",
            "They are unequal\n",
            "They are unequal\n",
            "They are unequal\n",
            "They are unequal\n",
            "They are unequal\n",
            "They are unequal\n",
            "They are unequal\n",
            "They are equal\n",
            "They are unequal\n",
            "They are unequal\n"
          ]
        }
      ]
    }
  ]
}