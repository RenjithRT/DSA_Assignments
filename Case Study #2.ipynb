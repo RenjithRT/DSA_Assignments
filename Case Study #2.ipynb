{
 "cells": [
  {
   "cell_type": "markdown",
   "id": "5575e341",
   "metadata": {
    "id": "5575e341"
   },
   "source": [
    "# Case Study #2"
   ]
  },
  {
   "cell_type": "code",
   "execution_count": 1,
   "id": "f027a955",
   "metadata": {
    "id": "f027a955"
   },
   "outputs": [],
   "source": [
    "# Import the required libraries\n",
    "import pandas as pd\n",
    "import numpy as np\n",
    "import matplotlib.pyplot as plt\n",
    "import seaborn as sns\n",
    "\n",
    "import warnings\n",
    "warnings.filterwarnings(\"ignore\")"
   ]
  },
  {
   "cell_type": "code",
   "execution_count": 2,
   "id": "ef79af5e",
   "metadata": {
    "id": "ef79af5e"
   },
   "outputs": [],
   "source": [
    "# Loading the excel file into a pandas dataframe.\n",
    "data = pd.read_csv(\"StudentsPerformance.csv\")"
   ]
  },
  {
   "cell_type": "code",
   "execution_count": 3,
   "id": "2f60e4e1",
   "metadata": {
    "id": "2f60e4e1",
    "outputId": "9cadfac9-067a-4e43-a282-ba211122508e"
   },
   "outputs": [
    {
     "data": {
      "text/html": [
       "<div>\n",
       "<style scoped>\n",
       "    .dataframe tbody tr th:only-of-type {\n",
       "        vertical-align: middle;\n",
       "    }\n",
       "\n",
       "    .dataframe tbody tr th {\n",
       "        vertical-align: top;\n",
       "    }\n",
       "\n",
       "    .dataframe thead th {\n",
       "        text-align: right;\n",
       "    }\n",
       "</style>\n",
       "<table border=\"1\" class=\"dataframe\">\n",
       "  <thead>\n",
       "    <tr style=\"text-align: right;\">\n",
       "      <th></th>\n",
       "      <th>gender</th>\n",
       "      <th>race/ethnicity</th>\n",
       "      <th>parental level of education</th>\n",
       "      <th>lunch</th>\n",
       "      <th>test preparation course</th>\n",
       "      <th>math score</th>\n",
       "      <th>reading score</th>\n",
       "      <th>writing score</th>\n",
       "    </tr>\n",
       "  </thead>\n",
       "  <tbody>\n",
       "    <tr>\n",
       "      <th>0</th>\n",
       "      <td>female</td>\n",
       "      <td>group C</td>\n",
       "      <td>some high school</td>\n",
       "      <td>free/reduced</td>\n",
       "      <td>none</td>\n",
       "      <td>0</td>\n",
       "      <td>17</td>\n",
       "      <td>10</td>\n",
       "    </tr>\n",
       "    <tr>\n",
       "      <th>1</th>\n",
       "      <td>female</td>\n",
       "      <td>group B</td>\n",
       "      <td>high school</td>\n",
       "      <td>free/reduced</td>\n",
       "      <td>none</td>\n",
       "      <td>8</td>\n",
       "      <td>24</td>\n",
       "      <td>23</td>\n",
       "    </tr>\n",
       "    <tr>\n",
       "      <th>2</th>\n",
       "      <td>female</td>\n",
       "      <td>group B</td>\n",
       "      <td>some high school</td>\n",
       "      <td>free/reduced</td>\n",
       "      <td>none</td>\n",
       "      <td>18</td>\n",
       "      <td>32</td>\n",
       "      <td>28</td>\n",
       "    </tr>\n",
       "    <tr>\n",
       "      <th>3</th>\n",
       "      <td>female</td>\n",
       "      <td>group B</td>\n",
       "      <td>some college</td>\n",
       "      <td>standard</td>\n",
       "      <td>none</td>\n",
       "      <td>11</td>\n",
       "      <td>38</td>\n",
       "      <td>32</td>\n",
       "    </tr>\n",
       "    <tr>\n",
       "      <th>4</th>\n",
       "      <td>female</td>\n",
       "      <td>group C</td>\n",
       "      <td>some college</td>\n",
       "      <td>free/reduced</td>\n",
       "      <td>none</td>\n",
       "      <td>22</td>\n",
       "      <td>39</td>\n",
       "      <td>33</td>\n",
       "    </tr>\n",
       "    <tr>\n",
       "      <th>...</th>\n",
       "      <td>...</td>\n",
       "      <td>...</td>\n",
       "      <td>...</td>\n",
       "      <td>...</td>\n",
       "      <td>...</td>\n",
       "      <td>...</td>\n",
       "      <td>...</td>\n",
       "      <td>...</td>\n",
       "    </tr>\n",
       "    <tr>\n",
       "      <th>995</th>\n",
       "      <td>male</td>\n",
       "      <td>group E</td>\n",
       "      <td>some college</td>\n",
       "      <td>standard</td>\n",
       "      <td>completed</td>\n",
       "      <td>99</td>\n",
       "      <td>87</td>\n",
       "      <td>81</td>\n",
       "    </tr>\n",
       "    <tr>\n",
       "      <th>996</th>\n",
       "      <td>male</td>\n",
       "      <td>group A</td>\n",
       "      <td>some college</td>\n",
       "      <td>standard</td>\n",
       "      <td>completed</td>\n",
       "      <td>100</td>\n",
       "      <td>96</td>\n",
       "      <td>86</td>\n",
       "    </tr>\n",
       "    <tr>\n",
       "      <th>997</th>\n",
       "      <td>male</td>\n",
       "      <td>group D</td>\n",
       "      <td>some college</td>\n",
       "      <td>standard</td>\n",
       "      <td>completed</td>\n",
       "      <td>100</td>\n",
       "      <td>97</td>\n",
       "      <td>99</td>\n",
       "    </tr>\n",
       "    <tr>\n",
       "      <th>998</th>\n",
       "      <td>male</td>\n",
       "      <td>group E</td>\n",
       "      <td>associate's degree</td>\n",
       "      <td>free/reduced</td>\n",
       "      <td>completed</td>\n",
       "      <td>100</td>\n",
       "      <td>100</td>\n",
       "      <td>93</td>\n",
       "    </tr>\n",
       "    <tr>\n",
       "      <th>999</th>\n",
       "      <td>male</td>\n",
       "      <td>group E</td>\n",
       "      <td>bachelor's degree</td>\n",
       "      <td>standard</td>\n",
       "      <td>completed</td>\n",
       "      <td>100</td>\n",
       "      <td>100</td>\n",
       "      <td>100</td>\n",
       "    </tr>\n",
       "  </tbody>\n",
       "</table>\n",
       "<p>1000 rows × 8 columns</p>\n",
       "</div>"
      ],
      "text/plain": [
       "     gender race/ethnicity parental level of education         lunch  \\\n",
       "0    female        group C            some high school  free/reduced   \n",
       "1    female        group B                 high school  free/reduced   \n",
       "2    female        group B            some high school  free/reduced   \n",
       "3    female        group B                some college      standard   \n",
       "4    female        group C                some college  free/reduced   \n",
       "..      ...            ...                         ...           ...   \n",
       "995    male        group E                some college      standard   \n",
       "996    male        group A                some college      standard   \n",
       "997    male        group D                some college      standard   \n",
       "998    male        group E          associate's degree  free/reduced   \n",
       "999    male        group E           bachelor's degree      standard   \n",
       "\n",
       "    test preparation course  math score  reading score  writing score  \n",
       "0                      none           0             17             10  \n",
       "1                      none           8             24             23  \n",
       "2                      none          18             32             28  \n",
       "3                      none          11             38             32  \n",
       "4                      none          22             39             33  \n",
       "..                      ...         ...            ...            ...  \n",
       "995               completed          99             87             81  \n",
       "996               completed         100             96             86  \n",
       "997               completed         100             97             99  \n",
       "998               completed         100            100             93  \n",
       "999               completed         100            100            100  \n",
       "\n",
       "[1000 rows x 8 columns]"
      ]
     },
     "execution_count": 3,
     "metadata": {},
     "output_type": "execute_result"
    }
   ],
   "source": [
    "# Diplay the dataset\n",
    "data"
   ]
  },
  {
   "cell_type": "code",
   "execution_count": 4,
   "id": "7258b424",
   "metadata": {
    "id": "7258b424",
    "outputId": "084f6eef-d609-4126-c4f4-231934d6576d"
   },
   "outputs": [
    {
     "name": "stdout",
     "output_type": "stream",
     "text": [
      "<class 'pandas.core.frame.DataFrame'>\n",
      "RangeIndex: 1000 entries, 0 to 999\n",
      "Data columns (total 8 columns):\n",
      " #   Column                       Non-Null Count  Dtype \n",
      "---  ------                       --------------  ----- \n",
      " 0   gender                       1000 non-null   object\n",
      " 1   race/ethnicity               1000 non-null   object\n",
      " 2   parental level of education  1000 non-null   object\n",
      " 3   lunch                        1000 non-null   object\n",
      " 4   test preparation course      1000 non-null   object\n",
      " 5   math score                   1000 non-null   int64 \n",
      " 6   reading score                1000 non-null   int64 \n",
      " 7   writing score                1000 non-null   int64 \n",
      "dtypes: int64(3), object(5)\n",
      "memory usage: 62.6+ KB\n"
     ]
    }
   ],
   "source": [
    "# summary of the dataset\n",
    "data.info()"
   ]
  },
  {
   "cell_type": "markdown",
   "id": "7560c050",
   "metadata": {
    "id": "7560c050"
   },
   "source": [
    "This dataset contains the following data\n",
    "\n",
    "there is 1000 rows and 8 features.\n",
    "this dataset has gender, race/ethnicity, parental level of education, lunch, test preparation course, math score, reading score and writing score features."
   ]
  },
  {
   "cell_type": "code",
   "execution_count": 5,
   "id": "2a6f9206",
   "metadata": {
    "id": "2a6f9206",
    "outputId": "cbcb03f4-c54f-473e-f19a-cfbf28fc073b"
   },
   "outputs": [
    {
     "data": {
      "text/plain": [
       "gender                         0\n",
       "race/ethnicity                 0\n",
       "parental level of education    0\n",
       "lunch                          0\n",
       "test preparation course        0\n",
       "math score                     0\n",
       "reading score                  0\n",
       "writing score                  0\n",
       "dtype: int64"
      ]
     },
     "execution_count": 5,
     "metadata": {},
     "output_type": "execute_result"
    }
   ],
   "source": [
    "# Calculating the null values present in each columns in the dataset\n",
    "\n",
    "data.isna().sum() # or you can use df.isnull().sum() as well"
   ]
  },
  {
   "cell_type": "markdown",
   "id": "2fd8dc79",
   "metadata": {
    "id": "2fd8dc79"
   },
   "source": [
    "As you can see that, there is no missing values present in the dataset. so we can move to the questions"
   ]
  },
  {
   "cell_type": "markdown",
   "id": "6a3472f6",
   "metadata": {
    "id": "6a3472f6"
   },
   "source": [
    "### 1. Find out how many males and females participated in the test.\n"
   ]
  },
  {
   "cell_type": "code",
   "execution_count": 6,
   "id": "78a3226f",
   "metadata": {
    "id": "78a3226f",
    "outputId": "7a37fd7a-4cf0-4066-d7ca-917cc4bfd829"
   },
   "outputs": [
    {
     "data": {
      "text/plain": [
       "female    518\n",
       "male      482\n",
       "Name: gender, dtype: int64"
      ]
     },
     "execution_count": 6,
     "metadata": {},
     "output_type": "execute_result"
    }
   ],
   "source": [
    "# calculating the gender feature with values inside in the dataset\n",
    "data['gender'].value_counts()"
   ]
  },
  {
   "cell_type": "code",
   "execution_count": 7,
   "id": "ce9c8322",
   "metadata": {
    "id": "ce9c8322"
   },
   "outputs": [],
   "source": [
    "# Categorical data visualization\n",
    "colors = ['#ede0d4','#e6ccb2','#ddb892','#b08968','#7f5539','#9c6644','#dda15e'] # different colors for graph color\n",
    "\n",
    "# we can create a fuction to display the univariate analysis\n",
    "\n",
    "def cat_univariate_analysis(feature): \n",
    "    \n",
    "    #calculate the each column values inside and sort the order for better view\n",
    "    data_ = data[feature].value_counts().sort_values(ascending=True) \n",
    "\n",
    "    # set the graph size and color\n",
    "    plt.figure(figsize=(20,5), facecolor='white')\n",
    "\n",
    "    # display the first graph in one visualization\n",
    "    plt.subplot(1,2,1)\n",
    "\n",
    "    # using barh for horizonatal view of bar chart\n",
    "    plt.barh(y=data_.index, width=data_.values, \n",
    "             height=0.7, color=colors, edgecolor='k',linewidth=1)\n",
    "    \n",
    "    # The despine() is a function that removes the spines from the right and upper portion of the plot by default\n",
    "    sns.despine() \n",
    "\n",
    "    # display the second graph in one visualization\n",
    "    ax = plt.subplot(1,2,2)\n",
    "\n",
    "    # using pie chart you can see the circle portion of how each values differ from each portion.\n",
    "    ax.pie(x=data_.values, \n",
    "           labels=data_.index, \n",
    "           colors=colors, \n",
    "           radius=1.2, \n",
    "           autopct=\"%1.1f%%\", \n",
    "           shadow=True, \n",
    "           explode=[0.04 for i in range(data[feature].nunique())]) # number of unique count in each column\n",
    "    # display the circle for pie chart\n",
    "    ax.add_artist(plt.Circle((0,0), 0.4, fc='white'))\n",
    "    plt.suptitle(t=feature, x=0.5, y=1.1, fontfamily='serif', fontsize=20, color='k', fontweight='bold',alpha=0.8)\n",
    "    plt.show()"
   ]
  },
  {
   "cell_type": "code",
   "execution_count": 8,
   "id": "9de64c2e",
   "metadata": {
    "id": "9de64c2e",
    "outputId": "15747012-25e6-499e-85ca-b787f2f179bb"
   },
   "outputs": [
    {
     "data": {
      "image/png": "[encoded data removed]",
      "text/plain": [
       "<Figure size 1440x360 with 2 Axes>"
      ]
     },
     "metadata": {},
     "output_type": "display_data"
    }
   ],
   "source": [
    "# calling the fuction with gender feature for clear data visualization\n",
    "cat_univariate_analysis('gender')"
   ]
  },
  {
   "cell_type": "markdown",
   "id": "27deec9a",
   "metadata": {
    "id": "27deec9a"
   },
   "source": [
    "The gender feature, we can clearly see the bar horizontal view and pie chart view of gender. \n",
    "There are 518 females and 482 males are participated in the test."
   ]
  },
  {
   "cell_type": "markdown",
   "id": "8961f70b",
   "metadata": {
    "id": "8961f70b"
   },
   "source": [
    "### 2. What do you think about the students' parental level of education?\n"
   ]
  },
  {
   "cell_type": "code",
   "execution_count": 9,
   "id": "474dd922",
   "metadata": {
    "id": "474dd922",
    "outputId": "2ed6e59e-2bcd-4e5e-e88c-cd614b391ba7"
   },
   "outputs": [
    {
     "data": {
      "text/plain": [
       "some college          226\n",
       "associate's degree    222\n",
       "high school           196\n",
       "some high school      179\n",
       "bachelor's degree     118\n",
       "master's degree        59\n",
       "Name: parental level of education, dtype: int64"
      ]
     },
     "execution_count": 9,
     "metadata": {},
     "output_type": "execute_result"
    }
   ],
   "source": [
    "# calculating the parental level of education feature with values inside in the dataset\n",
    "parental_education = data['parental level of education'].value_counts()\n",
    "parental_education"
   ]
  },
  {
   "cell_type": "code",
   "execution_count": 10,
   "id": "4fc5836a",
   "metadata": {
    "id": "4fc5836a",
    "outputId": "b2390355-2ba4-42ba-d0c2-cd79a228bb90"
   },
   "outputs": [
    {
     "data": {
      "image/png": "[encoded data removed]",
      "text/plain": [
       "<Figure size 1440x360 with 2 Axes>"
      ]
     },
     "metadata": {},
     "output_type": "display_data"
    }
   ],
   "source": [
    "# calling the fuction with parental level of education feature for clear data visualization\n",
    "cat_univariate_analysis('parental level of education')"
   ]
  },
  {
   "cell_type": "markdown",
   "id": "22443658",
   "metadata": {
    "id": "22443658"
   },
   "source": [
    "the students' parental level of education is here mentioned with high number of parents having some college level of education with 22.6% out of other education,  so we can say that it is more than associate's degree  with 22.2% out of other education . And few parents holding master's degree level of education with 5.9% out of 100%. Bachelor's degree of parental level of education is 11.8% , high school level is 19.6% and rest of them are holding some high school level of educations.\n"
   ]
  },
  {
   "cell_type": "markdown",
   "id": "cd86c486",
   "metadata": {
    "id": "cd86c486"
   },
   "source": [
    "### 3. Who scores the most on average for math, reading and writing based on\n",
    "- **Gender**\n",
    "\n"
   ]
  },
  {
   "cell_type": "code",
   "execution_count": 11,
   "id": "89afc536",
   "metadata": {
    "id": "89afc536",
    "outputId": "8f33e214-b831-405b-a6f0-74e81cc88ef3"
   },
   "outputs": [
    {
     "data": {
      "text/html": [
       "<div>\n",
       "<style scoped>\n",
       "    .dataframe tbody tr th:only-of-type {\n",
       "        vertical-align: middle;\n",
       "    }\n",
       "\n",
       "    .dataframe tbody tr th {\n",
       "        vertical-align: top;\n",
       "    }\n",
       "\n",
       "    .dataframe thead th {\n",
       "        text-align: right;\n",
       "    }\n",
       "</style>\n",
       "<table border=\"1\" class=\"dataframe\">\n",
       "  <thead>\n",
       "    <tr style=\"text-align: right;\">\n",
       "      <th></th>\n",
       "      <th>math score</th>\n",
       "      <th>reading score</th>\n",
       "      <th>writing score</th>\n",
       "    </tr>\n",
       "    <tr>\n",
       "      <th>gender</th>\n",
       "      <th></th>\n",
       "      <th></th>\n",
       "      <th></th>\n",
       "    </tr>\n",
       "  </thead>\n",
       "  <tbody>\n",
       "    <tr>\n",
       "      <th>female</th>\n",
       "      <td>63.376448</td>\n",
       "      <td>72.590734</td>\n",
       "      <td>72.467181</td>\n",
       "    </tr>\n",
       "    <tr>\n",
       "      <th>male</th>\n",
       "      <td>68.821577</td>\n",
       "      <td>65.545643</td>\n",
       "      <td>63.446058</td>\n",
       "    </tr>\n",
       "  </tbody>\n",
       "</table>\n",
       "</div>"
      ],
      "text/plain": [
       "        math score  reading score  writing score\n",
       "gender                                          \n",
       "female   63.376448      72.590734      72.467181\n",
       "male     68.821577      65.545643      63.446058"
      ]
     },
     "execution_count": 11,
     "metadata": {},
     "output_type": "execute_result"
    }
   ],
   "source": [
    "# calculating the gender wise average scores for math, reading and writing\n",
    "avg_scores_gender = data.groupby('gender')['math score','reading score','writing score'].mean()\n",
    "avg_scores_gender"
   ]
  },
  {
   "cell_type": "code",
   "execution_count": 12,
   "id": "ee2f6e56",
   "metadata": {
    "id": "ee2f6e56",
    "outputId": "3cd54bd0-72c4-40cc-f884-aee8fb2c85af"
   },
   "outputs": [
    {
     "data": {
      "image/png": "[encoded data removed]",
      "text/plain": [
       "<Figure size 432x288 with 3 Axes>"
      ]
     },
     "metadata": {
      "needs_background": "light"
     },
     "output_type": "display_data"
    }
   ],
   "source": [
    "# display the multiple graph in one visualization\n",
    "fig, ax = plt.subplots()\n",
    "\n",
    "# arranging the multiple graph \n",
    "fig.subplots_adjust(hspace=0.8, wspace=0.8, left = 0.2, right = 1.5)\n",
    "\n",
    "for idx in range(3): # loop for all three features\n",
    "    plt.subplot(1,3, idx+1) \n",
    "    gender_df = data.groupby(\"gender\")[list(data.columns[-3:])[idx]].describe()\n",
    "    sns.barplot(gender_df.index, gender_df.loc[:,\"mean\"].values)\n",
    "    plt.ylabel(\"score\")\n",
    "    plt.title(list(data.columns[-3:])[idx])"
   ]
  },
  {
   "cell_type": "markdown",
   "id": "EjYULXAh2QYU",
   "metadata": {
    "id": "EjYULXAh2QYU"
   },
   "source": [
    "Based on gender, males scored the most on average for math but less in reading and writing while females scored less in math but better scores in reading and writing."
   ]
  },
  {
   "cell_type": "markdown",
   "id": "f04d3ae1",
   "metadata": {
    "id": "f04d3ae1"
   },
   "source": [
    "- **Test preparation course**"
   ]
  },
  {
   "cell_type": "code",
   "execution_count": 13,
   "id": "c5455f35",
   "metadata": {
    "id": "c5455f35",
    "outputId": "37d3c3b4-54b8-40f4-cf3d-0767cd172f85"
   },
   "outputs": [
    {
     "data": {
      "text/html": [
       "<div>\n",
       "<style scoped>\n",
       "    .dataframe tbody tr th:only-of-type {\n",
       "        vertical-align: middle;\n",
       "    }\n",
       "\n",
       "    .dataframe tbody tr th {\n",
       "        vertical-align: top;\n",
       "    }\n",
       "\n",
       "    .dataframe thead th {\n",
       "        text-align: right;\n",
       "    }\n",
       "</style>\n",
       "<table border=\"1\" class=\"dataframe\">\n",
       "  <thead>\n",
       "    <tr style=\"text-align: right;\">\n",
       "      <th></th>\n",
       "      <th>math score</th>\n",
       "      <th>reading score</th>\n",
       "      <th>writing score</th>\n",
       "    </tr>\n",
       "    <tr>\n",
       "      <th>test preparation course</th>\n",
       "      <th></th>\n",
       "      <th></th>\n",
       "      <th></th>\n",
       "    </tr>\n",
       "  </thead>\n",
       "  <tbody>\n",
       "    <tr>\n",
       "      <th>completed</th>\n",
       "      <td>69.96648</td>\n",
       "      <td>74.175978</td>\n",
       "      <td>74.684358</td>\n",
       "    </tr>\n",
       "    <tr>\n",
       "      <th>none</th>\n",
       "      <td>63.78972</td>\n",
       "      <td>66.417445</td>\n",
       "      <td>64.457944</td>\n",
       "    </tr>\n",
       "  </tbody>\n",
       "</table>\n",
       "</div>"
      ],
      "text/plain": [
       "                         math score  reading score  writing score\n",
       "test preparation course                                          \n",
       "completed                  69.96648      74.175978      74.684358\n",
       "none                       63.78972      66.417445      64.457944"
      ]
     },
     "execution_count": 13,
     "metadata": {},
     "output_type": "execute_result"
    }
   ],
   "source": [
    "# calculating the test preparation course wise average scores for math, reading and writing\n",
    "avg_scores_test = data.groupby('test preparation course')['math score','reading score','writing score'].mean()\n",
    "avg_scores_test"
   ]
  },
  {
   "cell_type": "code",
   "execution_count": 14,
   "id": "0e9fe9da",
   "metadata": {
    "id": "0e9fe9da",
    "outputId": "4d08ca08-b320-42d5-e44a-b600d50fe196"
   },
   "outputs": [
    {
     "data": {
      "image/png": "[encoded data removed]",
      "text/plain": [
       "<Figure size 432x288 with 3 Axes>"
      ]
     },
     "metadata": {
      "needs_background": "light"
     },
     "output_type": "display_data"
    }
   ],
   "source": [
    "# display the multiple graph in one visualization\n",
    "fig, ax = plt.subplots()\n",
    "\n",
    "# arranging the multiple graph \n",
    "fig.subplots_adjust(hspace=0.8, wspace=0.8, left = 0.2, right = 1.5)\n",
    "\n",
    "for idx in range(3): # loop for all three features\n",
    "    plt.subplot(1,3, idx+1)\n",
    "    gender_df = data.groupby(\"test preparation course\")[list(data.columns[-3:])[idx]].describe()\n",
    "    sns.barplot(gender_df.index, gender_df.loc[:,\"mean\"].values)\n",
    "    plt.ylabel(\"score\")\n",
    "    plt.title(list(data.columns[-3:])[idx])"
   ]
  },
  {
   "cell_type": "markdown",
   "id": "zuNmYMlp25_x",
   "metadata": {
    "id": "zuNmYMlp25_x"
   },
   "source": [
    "Based on Test preparation course, those who completed the course scored more in math, reading and writing while those who do not completed the course scored less in  math, reading and writing."
   ]
  },
  {
   "cell_type": "markdown",
   "id": "5c7c3a29",
   "metadata": {
    "id": "5c7c3a29"
   },
   "source": [
    "### 4. What do you think about the scoring variation for math, reading and writing based on\n",
    "- **Gender**\n"
   ]
  },
  {
   "cell_type": "code",
   "execution_count": 15,
   "id": "b9eb6164",
   "metadata": {
    "id": "b9eb6164",
    "outputId": "bdaa0a67-3e9b-4ce2-a536-f9dc474f147e"
   },
   "outputs": [
    {
     "data": {
      "text/html": [
       "<div>\n",
       "<style scoped>\n",
       "    .dataframe tbody tr th:only-of-type {\n",
       "        vertical-align: middle;\n",
       "    }\n",
       "\n",
       "    .dataframe tbody tr th {\n",
       "        vertical-align: top;\n",
       "    }\n",
       "\n",
       "    .dataframe thead th {\n",
       "        text-align: right;\n",
       "    }\n",
       "</style>\n",
       "<table border=\"1\" class=\"dataframe\">\n",
       "  <thead>\n",
       "    <tr style=\"text-align: right;\">\n",
       "      <th></th>\n",
       "      <th>count</th>\n",
       "      <th>mean</th>\n",
       "      <th>std</th>\n",
       "      <th>min</th>\n",
       "      <th>25%</th>\n",
       "      <th>50%</th>\n",
       "      <th>75%</th>\n",
       "      <th>max</th>\n",
       "    </tr>\n",
       "    <tr>\n",
       "      <th>gender</th>\n",
       "      <th></th>\n",
       "      <th></th>\n",
       "      <th></th>\n",
       "      <th></th>\n",
       "      <th></th>\n",
       "      <th></th>\n",
       "      <th></th>\n",
       "      <th></th>\n",
       "    </tr>\n",
       "  </thead>\n",
       "  <tbody>\n",
       "    <tr>\n",
       "      <th>female</th>\n",
       "      <td>518.0</td>\n",
       "      <td>63.376448</td>\n",
       "      <td>16.029928</td>\n",
       "      <td>0.0</td>\n",
       "      <td>54.0</td>\n",
       "      <td>65.0</td>\n",
       "      <td>74.0</td>\n",
       "      <td>100.0</td>\n",
       "    </tr>\n",
       "    <tr>\n",
       "      <th>male</th>\n",
       "      <td>482.0</td>\n",
       "      <td>68.821577</td>\n",
       "      <td>14.556411</td>\n",
       "      <td>27.0</td>\n",
       "      <td>59.0</td>\n",
       "      <td>69.0</td>\n",
       "      <td>79.0</td>\n",
       "      <td>100.0</td>\n",
       "    </tr>\n",
       "  </tbody>\n",
       "</table>\n",
       "</div>"
      ],
      "text/plain": [
       "        count       mean        std   min   25%   50%   75%    max\n",
       "gender                                                            \n",
       "female  518.0  63.376448  16.029928   0.0  54.0  65.0  74.0  100.0\n",
       "male    482.0  68.821577  14.556411  27.0  59.0  69.0  79.0  100.0"
      ]
     },
     "execution_count": 15,
     "metadata": {},
     "output_type": "execute_result"
    }
   ],
   "source": [
    "# checking the scoring variation for math\n",
    "math_score_gender = data.groupby('gender')['math score'].describe()\n",
    "math_score_gender"
   ]
  },
  {
   "cell_type": "markdown",
   "id": "HTk9KqGB8y5i",
   "metadata": {
    "id": "HTk9KqGB8y5i"
   },
   "source": [
    "the scoring variation for math, females, 50% of the females has 65 scores or more while for males, 69 marks or more. So we can say that male is performing well than females. The maximum score for maths is 100 for both males and females, the minimum mark scored by the females is 0 and males is 27."
   ]
  },
  {
   "cell_type": "code",
   "execution_count": 16,
   "id": "6fb26d4c",
   "metadata": {
    "id": "6fb26d4c",
    "outputId": "0c86a551-283d-4366-9614-b937975ae77c"
   },
   "outputs": [
    {
     "data": {
      "text/html": [
       "<div>\n",
       "<style scoped>\n",
       "    .dataframe tbody tr th:only-of-type {\n",
       "        vertical-align: middle;\n",
       "    }\n",
       "\n",
       "    .dataframe tbody tr th {\n",
       "        vertical-align: top;\n",
       "    }\n",
       "\n",
       "    .dataframe thead th {\n",
       "        text-align: right;\n",
       "    }\n",
       "</style>\n",
       "<table border=\"1\" class=\"dataframe\">\n",
       "  <thead>\n",
       "    <tr style=\"text-align: right;\">\n",
       "      <th></th>\n",
       "      <th>count</th>\n",
       "      <th>mean</th>\n",
       "      <th>std</th>\n",
       "      <th>min</th>\n",
       "      <th>25%</th>\n",
       "      <th>50%</th>\n",
       "      <th>75%</th>\n",
       "      <th>max</th>\n",
       "    </tr>\n",
       "    <tr>\n",
       "      <th>gender</th>\n",
       "      <th></th>\n",
       "      <th></th>\n",
       "      <th></th>\n",
       "      <th></th>\n",
       "      <th></th>\n",
       "      <th></th>\n",
       "      <th></th>\n",
       "      <th></th>\n",
       "    </tr>\n",
       "  </thead>\n",
       "  <tbody>\n",
       "    <tr>\n",
       "      <th>female</th>\n",
       "      <td>518.0</td>\n",
       "      <td>72.590734</td>\n",
       "      <td>14.411018</td>\n",
       "      <td>17.0</td>\n",
       "      <td>63.25</td>\n",
       "      <td>73.0</td>\n",
       "      <td>83.0</td>\n",
       "      <td>100.0</td>\n",
       "    </tr>\n",
       "    <tr>\n",
       "      <th>male</th>\n",
       "      <td>482.0</td>\n",
       "      <td>65.545643</td>\n",
       "      <td>14.149594</td>\n",
       "      <td>23.0</td>\n",
       "      <td>56.00</td>\n",
       "      <td>66.0</td>\n",
       "      <td>76.0</td>\n",
       "      <td>100.0</td>\n",
       "    </tr>\n",
       "  </tbody>\n",
       "</table>\n",
       "</div>"
      ],
      "text/plain": [
       "        count       mean        std   min    25%   50%   75%    max\n",
       "gender                                                             \n",
       "female  518.0  72.590734  14.411018  17.0  63.25  73.0  83.0  100.0\n",
       "male    482.0  65.545643  14.149594  23.0  56.00  66.0  76.0  100.0"
      ]
     },
     "execution_count": 16,
     "metadata": {},
     "output_type": "execute_result"
    }
   ],
   "source": [
    "# checking the scoring variation for reading\n",
    "reading_score_gender = data.groupby('gender')['reading score'].describe()\n",
    "reading_score_gender"
   ]
  },
  {
   "cell_type": "markdown",
   "id": "jtvUWOu7-EjG",
   "metadata": {
    "id": "jtvUWOu7-EjG"
   },
   "source": [
    "the scoring variation for reading, females, 50% of the females has 73 scores or more while for males, 66 marks or more. So we can say that male is out performing than females in reading. The maximum score for reading is 100 for both males and females, the minimum mark scored by the females is 17 and males is 23."
   ]
  },
  {
   "cell_type": "code",
   "execution_count": 17,
   "id": "7f7b9e36",
   "metadata": {
    "id": "7f7b9e36",
    "outputId": "931ef6e1-5a68-4577-cfec-3158430ed6a9"
   },
   "outputs": [
    {
     "data": {
      "text/html": [
       "<div>\n",
       "<style scoped>\n",
       "    .dataframe tbody tr th:only-of-type {\n",
       "        vertical-align: middle;\n",
       "    }\n",
       "\n",
       "    .dataframe tbody tr th {\n",
       "        vertical-align: top;\n",
       "    }\n",
       "\n",
       "    .dataframe thead th {\n",
       "        text-align: right;\n",
       "    }\n",
       "</style>\n",
       "<table border=\"1\" class=\"dataframe\">\n",
       "  <thead>\n",
       "    <tr style=\"text-align: right;\">\n",
       "      <th></th>\n",
       "      <th>count</th>\n",
       "      <th>mean</th>\n",
       "      <th>std</th>\n",
       "      <th>min</th>\n",
       "      <th>25%</th>\n",
       "      <th>50%</th>\n",
       "      <th>75%</th>\n",
       "      <th>max</th>\n",
       "    </tr>\n",
       "    <tr>\n",
       "      <th>gender</th>\n",
       "      <th></th>\n",
       "      <th></th>\n",
       "      <th></th>\n",
       "      <th></th>\n",
       "      <th></th>\n",
       "      <th></th>\n",
       "      <th></th>\n",
       "      <th></th>\n",
       "    </tr>\n",
       "  </thead>\n",
       "  <tbody>\n",
       "    <tr>\n",
       "      <th>female</th>\n",
       "      <td>518.0</td>\n",
       "      <td>72.467181</td>\n",
       "      <td>14.844842</td>\n",
       "      <td>10.0</td>\n",
       "      <td>64.0</td>\n",
       "      <td>74.0</td>\n",
       "      <td>82.0</td>\n",
       "      <td>100.0</td>\n",
       "    </tr>\n",
       "    <tr>\n",
       "      <th>male</th>\n",
       "      <td>482.0</td>\n",
       "      <td>63.446058</td>\n",
       "      <td>14.227225</td>\n",
       "      <td>15.0</td>\n",
       "      <td>53.0</td>\n",
       "      <td>64.0</td>\n",
       "      <td>74.0</td>\n",
       "      <td>100.0</td>\n",
       "    </tr>\n",
       "  </tbody>\n",
       "</table>\n",
       "</div>"
      ],
      "text/plain": [
       "        count       mean        std   min   25%   50%   75%    max\n",
       "gender                                                            \n",
       "female  518.0  72.467181  14.844842  10.0  64.0  74.0  82.0  100.0\n",
       "male    482.0  63.446058  14.227225  15.0  53.0  64.0  74.0  100.0"
      ]
     },
     "execution_count": 17,
     "metadata": {},
     "output_type": "execute_result"
    }
   ],
   "source": [
    "# checking the scoring variation for writing\n",
    "writing_score_gender = data.groupby('gender')['writing score'].describe()\n",
    "writing_score_gender"
   ]
  },
  {
   "cell_type": "markdown",
   "id": "3MUFVGLH-uEX",
   "metadata": {
    "id": "3MUFVGLH-uEX"
   },
   "source": [
    "the scoring variation for writing, females, 50% of the females has 74 scores or more while for males, 64 marks or more. So we can say that male is out performing than females in writing. The maximum score for reading is 100 for both males and females, the minimum mark scored by the females is 10 and males is 15."
   ]
  },
  {
   "cell_type": "code",
   "execution_count": 18,
   "id": "0a927aa2",
   "metadata": {
    "id": "0a927aa2",
    "outputId": "8674672a-3f7a-4347-903e-7f1260e7ee69"
   },
   "outputs": [
    {
     "data": {
      "image/png": "[encoded data removed]",
      "text/plain": [
       "<Figure size 432x288 with 1 Axes>"
      ]
     },
     "metadata": {
      "needs_background": "light"
     },
     "output_type": "display_data"
    },
    {
     "data": {
      "image/png": "[encoded data removed]",
      "text/plain": [
       "<Figure size 432x288 with 1 Axes>"
      ]
     },
     "metadata": {
      "needs_background": "light"
     },
     "output_type": "display_data"
    },
    {
     "data": {
      "image/png": "[encoded data removed]",
      "text/plain": [
       "<Figure size 432x288 with 1 Axes>"
      ]
     },
     "metadata": {
      "needs_background": "light"
     },
     "output_type": "display_data"
    }
   ],
   "source": [
    "# data visualization for each features\n",
    "for item in data.columns[-3:]:\n",
    "    sns.boxplot(x=data[\"gender\"], y=data[item]) # checking any outliers present in the dataset \n",
    "    plt.title(item+\" vs gender\", loc=\"left\")\n",
    "    plt.show()"
   ]
  },
  {
   "cell_type": "markdown",
   "id": "2jnX_RzW6qr9",
   "metadata": {
    "id": "2jnX_RzW6qr9"
   },
   "source": [
    "Based on the gender score variation for math, reading and writing using boxplot you can clearly say that outliers present in the each 3 features. Like average wise males scored the most on average for math but less in reading and writing while females scored less in math but better scores in reading and writing."
   ]
  },
  {
   "cell_type": "markdown",
   "id": "df864743",
   "metadata": {
    "id": "df864743"
   },
   "source": [
    "- **Test preparation course**"
   ]
  },
  {
   "cell_type": "code",
   "execution_count": 19,
   "id": "7d9bc620",
   "metadata": {
    "id": "7d9bc620",
    "outputId": "2d346f07-dc6a-41ef-aaa4-3d12c7a14b38"
   },
   "outputs": [
    {
     "data": {
      "text/html": [
       "<div>\n",
       "<style scoped>\n",
       "    .dataframe tbody tr th:only-of-type {\n",
       "        vertical-align: middle;\n",
       "    }\n",
       "\n",
       "    .dataframe tbody tr th {\n",
       "        vertical-align: top;\n",
       "    }\n",
       "\n",
       "    .dataframe thead th {\n",
       "        text-align: right;\n",
       "    }\n",
       "</style>\n",
       "<table border=\"1\" class=\"dataframe\">\n",
       "  <thead>\n",
       "    <tr style=\"text-align: right;\">\n",
       "      <th></th>\n",
       "      <th>count</th>\n",
       "      <th>mean</th>\n",
       "      <th>std</th>\n",
       "      <th>min</th>\n",
       "      <th>25%</th>\n",
       "      <th>50%</th>\n",
       "      <th>75%</th>\n",
       "      <th>max</th>\n",
       "    </tr>\n",
       "    <tr>\n",
       "      <th>test preparation course</th>\n",
       "      <th></th>\n",
       "      <th></th>\n",
       "      <th></th>\n",
       "      <th></th>\n",
       "      <th></th>\n",
       "      <th></th>\n",
       "      <th></th>\n",
       "      <th></th>\n",
       "    </tr>\n",
       "  </thead>\n",
       "  <tbody>\n",
       "    <tr>\n",
       "      <th>completed</th>\n",
       "      <td>358.0</td>\n",
       "      <td>69.96648</td>\n",
       "      <td>14.521847</td>\n",
       "      <td>23.0</td>\n",
       "      <td>61.0</td>\n",
       "      <td>70.0</td>\n",
       "      <td>79.0</td>\n",
       "      <td>100.0</td>\n",
       "    </tr>\n",
       "    <tr>\n",
       "      <th>none</th>\n",
       "      <td>642.0</td>\n",
       "      <td>63.78972</td>\n",
       "      <td>15.705689</td>\n",
       "      <td>0.0</td>\n",
       "      <td>54.0</td>\n",
       "      <td>64.0</td>\n",
       "      <td>74.0</td>\n",
       "      <td>100.0</td>\n",
       "    </tr>\n",
       "  </tbody>\n",
       "</table>\n",
       "</div>"
      ],
      "text/plain": [
       "                         count      mean        std   min   25%   50%   75%  \\\n",
       "test preparation course                                                       \n",
       "completed                358.0  69.96648  14.521847  23.0  61.0  70.0  79.0   \n",
       "none                     642.0  63.78972  15.705689   0.0  54.0  64.0  74.0   \n",
       "\n",
       "                           max  \n",
       "test preparation course         \n",
       "completed                100.0  \n",
       "none                     100.0  "
      ]
     },
     "execution_count": 19,
     "metadata": {},
     "output_type": "execute_result"
    }
   ],
   "source": [
    "# checking the scoring variation for math\n",
    "math_score_test = data.groupby('test preparation course')['math score'].describe()\n",
    "math_score_test"
   ]
  },
  {
   "cell_type": "markdown",
   "id": "0CJm_yGDBZEU",
   "metadata": {
    "id": "0CJm_yGDBZEU"
   },
   "source": [
    "the scoring variation for math, those who completed the course scored more in math while those who do not completed the course scored less in  math. Top 25% of the students scored  79 marks or above while 74 marks or above in those who not completed the course. The maximum score is 100 for each and minimum score for test completed students is 23 while zero mark in those who do not completed the course. The average marks for those who completed the test is 70 or more and 64 mark for those who do not."
   ]
  },
  {
   "cell_type": "code",
   "execution_count": 20,
   "id": "77274d1b",
   "metadata": {
    "id": "77274d1b",
    "outputId": "5429a828-f59a-4092-a331-67f72f6a8324"
   },
   "outputs": [
    {
     "data": {
      "text/html": [
       "<div>\n",
       "<style scoped>\n",
       "    .dataframe tbody tr th:only-of-type {\n",
       "        vertical-align: middle;\n",
       "    }\n",
       "\n",
       "    .dataframe tbody tr th {\n",
       "        vertical-align: top;\n",
       "    }\n",
       "\n",
       "    .dataframe thead th {\n",
       "        text-align: right;\n",
       "    }\n",
       "</style>\n",
       "<table border=\"1\" class=\"dataframe\">\n",
       "  <thead>\n",
       "    <tr style=\"text-align: right;\">\n",
       "      <th></th>\n",
       "      <th>count</th>\n",
       "      <th>mean</th>\n",
       "      <th>std</th>\n",
       "      <th>min</th>\n",
       "      <th>25%</th>\n",
       "      <th>50%</th>\n",
       "      <th>75%</th>\n",
       "      <th>max</th>\n",
       "    </tr>\n",
       "    <tr>\n",
       "      <th>test preparation course</th>\n",
       "      <th></th>\n",
       "      <th></th>\n",
       "      <th></th>\n",
       "      <th></th>\n",
       "      <th></th>\n",
       "      <th></th>\n",
       "      <th></th>\n",
       "      <th></th>\n",
       "    </tr>\n",
       "  </thead>\n",
       "  <tbody>\n",
       "    <tr>\n",
       "      <th>completed</th>\n",
       "      <td>358.0</td>\n",
       "      <td>74.175978</td>\n",
       "      <td>13.537572</td>\n",
       "      <td>37.0</td>\n",
       "      <td>66.0</td>\n",
       "      <td>75.0</td>\n",
       "      <td>84.0</td>\n",
       "      <td>100.0</td>\n",
       "    </tr>\n",
       "    <tr>\n",
       "      <th>none</th>\n",
       "      <td>642.0</td>\n",
       "      <td>66.417445</td>\n",
       "      <td>14.608896</td>\n",
       "      <td>17.0</td>\n",
       "      <td>57.0</td>\n",
       "      <td>67.0</td>\n",
       "      <td>76.0</td>\n",
       "      <td>100.0</td>\n",
       "    </tr>\n",
       "  </tbody>\n",
       "</table>\n",
       "</div>"
      ],
      "text/plain": [
       "                         count       mean        std   min   25%   50%   75%  \\\n",
       "test preparation course                                                        \n",
       "completed                358.0  74.175978  13.537572  37.0  66.0  75.0  84.0   \n",
       "none                     642.0  66.417445  14.608896  17.0  57.0  67.0  76.0   \n",
       "\n",
       "                           max  \n",
       "test preparation course         \n",
       "completed                100.0  \n",
       "none                     100.0  "
      ]
     },
     "execution_count": 20,
     "metadata": {},
     "output_type": "execute_result"
    }
   ],
   "source": [
    "# checking the scoring variation for reading\n",
    "reading_score_test = data.groupby('test preparation course')['reading score'].describe()\n",
    "reading_score_test"
   ]
  },
  {
   "cell_type": "markdown",
   "id": "tnvQPvYJERby",
   "metadata": {
    "id": "tnvQPvYJERby"
   },
   "source": [
    "the scoring variation for reading, those who completed the course scored more in reading while those who do not completed the course scored less in  reading. Top 25% of the students scored  84 marks or above while 76 marks or above in those who not completed the course. The maximum score is 100 for each and minimum score for test completed students is 37 while 17 mark in those who do not completed the course. The average marks for those who completed the test is 75 or more and 67 mark for those who do not."
   ]
  },
  {
   "cell_type": "code",
   "execution_count": 21,
   "id": "e91824bc",
   "metadata": {
    "id": "e91824bc",
    "outputId": "216513e2-1b69-42c7-9641-23ec57fa96e8"
   },
   "outputs": [
    {
     "data": {
      "text/html": [
       "<div>\n",
       "<style scoped>\n",
       "    .dataframe tbody tr th:only-of-type {\n",
       "        vertical-align: middle;\n",
       "    }\n",
       "\n",
       "    .dataframe tbody tr th {\n",
       "        vertical-align: top;\n",
       "    }\n",
       "\n",
       "    .dataframe thead th {\n",
       "        text-align: right;\n",
       "    }\n",
       "</style>\n",
       "<table border=\"1\" class=\"dataframe\">\n",
       "  <thead>\n",
       "    <tr style=\"text-align: right;\">\n",
       "      <th></th>\n",
       "      <th>count</th>\n",
       "      <th>mean</th>\n",
       "      <th>std</th>\n",
       "      <th>min</th>\n",
       "      <th>25%</th>\n",
       "      <th>50%</th>\n",
       "      <th>75%</th>\n",
       "      <th>max</th>\n",
       "    </tr>\n",
       "    <tr>\n",
       "      <th>test preparation course</th>\n",
       "      <th></th>\n",
       "      <th></th>\n",
       "      <th></th>\n",
       "      <th></th>\n",
       "      <th></th>\n",
       "      <th></th>\n",
       "      <th></th>\n",
       "      <th></th>\n",
       "    </tr>\n",
       "  </thead>\n",
       "  <tbody>\n",
       "    <tr>\n",
       "      <th>completed</th>\n",
       "      <td>358.0</td>\n",
       "      <td>74.684358</td>\n",
       "      <td>13.236412</td>\n",
       "      <td>36.0</td>\n",
       "      <td>67.0</td>\n",
       "      <td>76.0</td>\n",
       "      <td>83.75</td>\n",
       "      <td>100.0</td>\n",
       "    </tr>\n",
       "    <tr>\n",
       "      <th>none</th>\n",
       "      <td>642.0</td>\n",
       "      <td>64.457944</td>\n",
       "      <td>15.041667</td>\n",
       "      <td>10.0</td>\n",
       "      <td>54.0</td>\n",
       "      <td>65.0</td>\n",
       "      <td>74.00</td>\n",
       "      <td>100.0</td>\n",
       "    </tr>\n",
       "  </tbody>\n",
       "</table>\n",
       "</div>"
      ],
      "text/plain": [
       "                         count       mean        std   min   25%   50%    75%  \\\n",
       "test preparation course                                                         \n",
       "completed                358.0  74.684358  13.236412  36.0  67.0  76.0  83.75   \n",
       "none                     642.0  64.457944  15.041667  10.0  54.0  65.0  74.00   \n",
       "\n",
       "                           max  \n",
       "test preparation course         \n",
       "completed                100.0  \n",
       "none                     100.0  "
      ]
     },
     "execution_count": 21,
     "metadata": {},
     "output_type": "execute_result"
    }
   ],
   "source": [
    "# checking the scoring variation for writing\n",
    "writing_score_test = data.groupby('test preparation course')['writing score'].describe()\n",
    "writing_score_test"
   ]
  },
  {
   "cell_type": "markdown",
   "id": "OMDN-rIzFHMj",
   "metadata": {
    "id": "OMDN-rIzFHMj"
   },
   "source": [
    "the scoring variation for writing, those who completed the course scored more in writing while those who do not completed the course scored less in  writing. Top 25% of the students scored  83.75 marks or above while 74 marks or above in those who not completed the course. The maximum score is 100 for each and minimum score for test completed students is 36 while 10 mark in those who do not completed the course. The average marks for those who completed the test is 76 or more and 65 mark for those who do not."
   ]
  },
  {
   "cell_type": "code",
   "execution_count": 22,
   "id": "550238e3",
   "metadata": {
    "id": "550238e3",
    "outputId": "7ba519dc-faa5-446e-c40c-ca147333e62b"
   },
   "outputs": [
    {
     "data": {
      "image/png": "[encoded data removed]",
      "text/plain": [
       "<Figure size 432x288 with 1 Axes>"
      ]
     },
     "metadata": {
      "needs_background": "light"
     },
     "output_type": "display_data"
    },
    {
     "data": {
      "image/png": "[encoded data removed]",
      "text/plain": [
       "<Figure size 432x288 with 1 Axes>"
      ]
     },
     "metadata": {
      "needs_background": "light"
     },
     "output_type": "display_data"
    },
    {
     "data": {
      "image/png": "[encoded data removed]",
      "text/plain": [
       "<Figure size 432x288 with 1 Axes>"
      ]
     },
     "metadata": {
      "needs_background": "light"
     },
     "output_type": "display_data"
    }
   ],
   "source": [
    "# data visualization for each features\n",
    "for item in data.columns[-3:]:\n",
    "    sns.boxplot(x=data[\"test preparation course\"], y=data[item]) # checking any outliers present in the dataset \n",
    "    plt.title(item+\" vs test preparation course\", loc=\"left\")\n",
    "    plt.show()"
   ]
  },
  {
   "cell_type": "markdown",
   "id": "QxWHAMJ1AqyE",
   "metadata": {
    "id": "QxWHAMJ1AqyE"
   },
   "source": [
    "Based on the test preparation course, score variation for math, reading and writing using boxplot you can clearly say that outliers present in the each 3 features. Like average wise those who completed the course scored more in math, reading and writing while those who do not completed the course scored less in math, reading and writing."
   ]
  },
  {
   "cell_type": "markdown",
   "id": "e884edc8",
   "metadata": {
    "id": "e884edc8"
   },
   "source": [
    "### 5. The management needs your help to give bonus points to the top 25% of students based on their maths score, so how will you help the management to achieve this."
   ]
  },
  {
   "cell_type": "code",
   "execution_count": 23,
   "id": "13fc4e72",
   "metadata": {
    "id": "13fc4e72",
    "outputId": "ba5b2171-8a90-48e0-ee36-6395cc842e6a"
   },
   "outputs": [
    {
     "data": {
      "text/html": [
       "<div>\n",
       "<style scoped>\n",
       "    .dataframe tbody tr th:only-of-type {\n",
       "        vertical-align: middle;\n",
       "    }\n",
       "\n",
       "    .dataframe tbody tr th {\n",
       "        vertical-align: top;\n",
       "    }\n",
       "\n",
       "    .dataframe thead th {\n",
       "        text-align: right;\n",
       "    }\n",
       "</style>\n",
       "<table border=\"1\" class=\"dataframe\">\n",
       "  <thead>\n",
       "    <tr style=\"text-align: right;\">\n",
       "      <th></th>\n",
       "      <th>count</th>\n",
       "      <th>mean</th>\n",
       "      <th>std</th>\n",
       "      <th>min</th>\n",
       "      <th>25%</th>\n",
       "      <th>50%</th>\n",
       "      <th>75%</th>\n",
       "      <th>max</th>\n",
       "    </tr>\n",
       "  </thead>\n",
       "  <tbody>\n",
       "    <tr>\n",
       "      <th>math score</th>\n",
       "      <td>1000.0</td>\n",
       "      <td>66.001</td>\n",
       "      <td>15.569567</td>\n",
       "      <td>0.0</td>\n",
       "      <td>57.0</td>\n",
       "      <td>66.0</td>\n",
       "      <td>77.00</td>\n",
       "      <td>100.0</td>\n",
       "    </tr>\n",
       "    <tr>\n",
       "      <th>reading score</th>\n",
       "      <td>1000.0</td>\n",
       "      <td>69.195</td>\n",
       "      <td>14.706436</td>\n",
       "      <td>17.0</td>\n",
       "      <td>59.0</td>\n",
       "      <td>70.0</td>\n",
       "      <td>79.25</td>\n",
       "      <td>100.0</td>\n",
       "    </tr>\n",
       "    <tr>\n",
       "      <th>writing score</th>\n",
       "      <td>1000.0</td>\n",
       "      <td>68.119</td>\n",
       "      <td>15.226381</td>\n",
       "      <td>10.0</td>\n",
       "      <td>58.0</td>\n",
       "      <td>69.0</td>\n",
       "      <td>79.00</td>\n",
       "      <td>100.0</td>\n",
       "    </tr>\n",
       "  </tbody>\n",
       "</table>\n",
       "</div>"
      ],
      "text/plain": [
       "                count    mean        std   min   25%   50%    75%    max\n",
       "math score     1000.0  66.001  15.569567   0.0  57.0  66.0  77.00  100.0\n",
       "reading score  1000.0  69.195  14.706436  17.0  59.0  70.0  79.25  100.0\n",
       "writing score  1000.0  68.119  15.226381  10.0  58.0  69.0  79.00  100.0"
      ]
     },
     "execution_count": 23,
     "metadata": {},
     "output_type": "execute_result"
    }
   ],
   "source": [
    "# statistical summary of the data\n",
    "data.describe().T # diagonal by writing rows as columns "
   ]
  },
  {
   "cell_type": "markdown",
   "id": "JvvBpykQHYWU",
   "metadata": {
    "id": "JvvBpykQHYWU"
   },
   "source": [
    "the top 25% of students based on their maths score is 77 so we need to store this data to another dataframe for calculation."
   ]
  },
  {
   "cell_type": "code",
   "execution_count": 24,
   "id": "LuTjC7s-H0Oc",
   "metadata": {
    "colab": {
     "base_uri": "https://localhost:8080/",
     "height": 200
    },
    "executionInfo": {
     "elapsed": 446,
     "status": "error",
     "timestamp": 1638263649376,
     "user": {
      "displayName": "Renjith R T",
      "photoUrl": "https://lh3.googleusercontent.com/a-/AOh14Gg3rriUGmhTjfKLc3tYoVrH7GyA57no3DAR5wCeMQ=s64",
      "userId": "11356813455645727283"
     },
     "user_tz": -330
    },
    "id": "LuTjC7s-H0Oc",
    "outputId": "f9a043fe-6404-4f20-a944-0a5c02c694a0"
   },
   "outputs": [
    {
     "data": {
      "text/html": [
       "<div>\n",
       "<style scoped>\n",
       "    .dataframe tbody tr th:only-of-type {\n",
       "        vertical-align: middle;\n",
       "    }\n",
       "\n",
       "    .dataframe tbody tr th {\n",
       "        vertical-align: top;\n",
       "    }\n",
       "\n",
       "    .dataframe thead th {\n",
       "        text-align: right;\n",
       "    }\n",
       "</style>\n",
       "<table border=\"1\" class=\"dataframe\">\n",
       "  <thead>\n",
       "    <tr style=\"text-align: right;\">\n",
       "      <th></th>\n",
       "      <th>gender</th>\n",
       "      <th>race/ethnicity</th>\n",
       "      <th>parental level of education</th>\n",
       "      <th>lunch</th>\n",
       "      <th>test preparation course</th>\n",
       "      <th>math score</th>\n",
       "      <th>reading score</th>\n",
       "      <th>writing score</th>\n",
       "    </tr>\n",
       "  </thead>\n",
       "  <tbody>\n",
       "    <tr>\n",
       "      <th>414</th>\n",
       "      <td>female</td>\n",
       "      <td>group A</td>\n",
       "      <td>high school</td>\n",
       "      <td>free/reduced</td>\n",
       "      <td>completed</td>\n",
       "      <td>77</td>\n",
       "      <td>88</td>\n",
       "      <td>85</td>\n",
       "    </tr>\n",
       "    <tr>\n",
       "      <th>415</th>\n",
       "      <td>female</td>\n",
       "      <td>group B</td>\n",
       "      <td>master's degree</td>\n",
       "      <td>free/reduced</td>\n",
       "      <td>completed</td>\n",
       "      <td>77</td>\n",
       "      <td>97</td>\n",
       "      <td>94</td>\n",
       "    </tr>\n",
       "    <tr>\n",
       "      <th>416</th>\n",
       "      <td>female</td>\n",
       "      <td>group B</td>\n",
       "      <td>bachelor's degree</td>\n",
       "      <td>free/reduced</td>\n",
       "      <td>none</td>\n",
       "      <td>77</td>\n",
       "      <td>85</td>\n",
       "      <td>87</td>\n",
       "    </tr>\n",
       "    <tr>\n",
       "      <th>417</th>\n",
       "      <td>female</td>\n",
       "      <td>group B</td>\n",
       "      <td>master's degree</td>\n",
       "      <td>standard</td>\n",
       "      <td>none</td>\n",
       "      <td>77</td>\n",
       "      <td>90</td>\n",
       "      <td>84</td>\n",
       "    </tr>\n",
       "    <tr>\n",
       "      <th>418</th>\n",
       "      <td>female</td>\n",
       "      <td>group B</td>\n",
       "      <td>high school</td>\n",
       "      <td>standard</td>\n",
       "      <td>completed</td>\n",
       "      <td>77</td>\n",
       "      <td>82</td>\n",
       "      <td>89</td>\n",
       "    </tr>\n",
       "    <tr>\n",
       "      <th>...</th>\n",
       "      <td>...</td>\n",
       "      <td>...</td>\n",
       "      <td>...</td>\n",
       "      <td>...</td>\n",
       "      <td>...</td>\n",
       "      <td>...</td>\n",
       "      <td>...</td>\n",
       "      <td>...</td>\n",
       "    </tr>\n",
       "    <tr>\n",
       "      <th>995</th>\n",
       "      <td>male</td>\n",
       "      <td>group E</td>\n",
       "      <td>some college</td>\n",
       "      <td>standard</td>\n",
       "      <td>completed</td>\n",
       "      <td>99</td>\n",
       "      <td>87</td>\n",
       "      <td>81</td>\n",
       "    </tr>\n",
       "    <tr>\n",
       "      <th>996</th>\n",
       "      <td>male</td>\n",
       "      <td>group A</td>\n",
       "      <td>some college</td>\n",
       "      <td>standard</td>\n",
       "      <td>completed</td>\n",
       "      <td>100</td>\n",
       "      <td>96</td>\n",
       "      <td>86</td>\n",
       "    </tr>\n",
       "    <tr>\n",
       "      <th>997</th>\n",
       "      <td>male</td>\n",
       "      <td>group D</td>\n",
       "      <td>some college</td>\n",
       "      <td>standard</td>\n",
       "      <td>completed</td>\n",
       "      <td>100</td>\n",
       "      <td>97</td>\n",
       "      <td>99</td>\n",
       "    </tr>\n",
       "    <tr>\n",
       "      <th>998</th>\n",
       "      <td>male</td>\n",
       "      <td>group E</td>\n",
       "      <td>associate's degree</td>\n",
       "      <td>free/reduced</td>\n",
       "      <td>completed</td>\n",
       "      <td>100</td>\n",
       "      <td>100</td>\n",
       "      <td>93</td>\n",
       "    </tr>\n",
       "    <tr>\n",
       "      <th>999</th>\n",
       "      <td>male</td>\n",
       "      <td>group E</td>\n",
       "      <td>bachelor's degree</td>\n",
       "      <td>standard</td>\n",
       "      <td>completed</td>\n",
       "      <td>100</td>\n",
       "      <td>100</td>\n",
       "      <td>100</td>\n",
       "    </tr>\n",
       "  </tbody>\n",
       "</table>\n",
       "<p>255 rows × 8 columns</p>\n",
       "</div>"
      ],
      "text/plain": [
       "     gender race/ethnicity parental level of education         lunch  \\\n",
       "414  female        group A                 high school  free/reduced   \n",
       "415  female        group B             master's degree  free/reduced   \n",
       "416  female        group B           bachelor's degree  free/reduced   \n",
       "417  female        group B             master's degree      standard   \n",
       "418  female        group B                 high school      standard   \n",
       "..      ...            ...                         ...           ...   \n",
       "995    male        group E                some college      standard   \n",
       "996    male        group A                some college      standard   \n",
       "997    male        group D                some college      standard   \n",
       "998    male        group E          associate's degree  free/reduced   \n",
       "999    male        group E           bachelor's degree      standard   \n",
       "\n",
       "    test preparation course  math score  reading score  writing score  \n",
       "414               completed          77             88             85  \n",
       "415               completed          77             97             94  \n",
       "416                    none          77             85             87  \n",
       "417                    none          77             90             84  \n",
       "418               completed          77             82             89  \n",
       "..                      ...         ...            ...            ...  \n",
       "995               completed          99             87             81  \n",
       "996               completed         100             96             86  \n",
       "997               completed         100             97             99  \n",
       "998               completed         100            100             93  \n",
       "999               completed         100            100            100  \n",
       "\n",
       "[255 rows x 8 columns]"
      ]
     },
     "execution_count": 24,
     "metadata": {},
     "output_type": "execute_result"
    }
   ],
   "source": [
    "# calculate the top 25% marks scored students\n",
    "top25 = data[(data['math score'] >= 77.00)]\n",
    "top25"
   ]
  },
  {
   "cell_type": "code",
   "execution_count": 25,
   "id": "1aed01df",
   "metadata": {
    "id": "1aed01df",
    "outputId": "046a65e1-285f-4976-f059-50be0c3ee481"
   },
   "outputs": [
    {
     "data": {
      "text/plain": [
       "male      151\n",
       "female    104\n",
       "Name: gender, dtype: int64"
      ]
     },
     "execution_count": 25,
     "metadata": {},
     "output_type": "execute_result"
    }
   ],
   "source": [
    "# calculating it with gender \n",
    "math_top25 = top25['gender'].value_counts()\n",
    "math_top25"
   ]
  },
  {
   "cell_type": "code",
   "execution_count": 27,
   "id": "3cefcb09",
   "metadata": {
    "colab": {
     "base_uri": "https://localhost:8080/",
     "height": 183
    },
    "executionInfo": {
     "elapsed": 417,
     "status": "error",
     "timestamp": 1638263731668,
     "user": {
      "displayName": "Renjith R T",
      "photoUrl": "https://lh3.googleusercontent.com/a-/AOh14Gg3rriUGmhTjfKLc3tYoVrH7GyA57no3DAR5wCeMQ=s64",
      "userId": "11356813455645727283"
     },
     "user_tz": -330
    },
    "id": "3cefcb09",
    "outputId": "a0cdcd42-ec3d-4b57-e513-7144ba549f6a"
   },
   "outputs": [
    {
     "data": {
      "text/plain": [
       "255"
      ]
     },
     "execution_count": 27,
     "metadata": {},
     "output_type": "execute_result"
    }
   ],
   "source": [
    "math_top25.sum()"
   ]
  },
  {
   "cell_type": "markdown",
   "id": "XCvxqL_7Iwg7",
   "metadata": {
    "id": "XCvxqL_7Iwg7"
   },
   "source": [
    "As you can see there are 255 students who scored 77 or more marks in maths and amoung 151 are males and 104 are females. So these students can achieve the bonus points from management."
   ]
  }
 ],
 "metadata": {
  "colab": {
   "collapsed_sections": [],
   "name": "Case Study #2.ipynb",
   "provenance": []
  },
  "kernelspec": {
   "display_name": "Python 3",
   "language": "python",
   "name": "python3"
  },
  "language_info": {
   "codemirror_mode": {
    "name": "ipython",
    "version": 3
   },
   "file_extension": ".py",
   "mimetype": "text/x-python",
   "name": "python",
   "nbconvert_exporter": "python",
   "pygments_lexer": "ipython3",
   "version": "3.8.8"
  }
 },
 "nbformat": 4,
 "nbformat_minor": 5
}
